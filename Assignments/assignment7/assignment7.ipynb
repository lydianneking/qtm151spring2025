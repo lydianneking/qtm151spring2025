{
 "cells": [
  {
   "cell_type": "markdown",
   "metadata": {},
   "source": [
    "# Assignment 7"
   ]
  },
  {
   "cell_type": "markdown",
   "metadata": {},
   "source": [
    "## Submit as an HTML file"
   ]
  },
  {
   "cell_type": "markdown",
   "metadata": {},
   "source": [
    "### Print your name below"
   ]
  },
  {
   "cell_type": "code",
   "execution_count": 1,
   "metadata": {},
   "outputs": [
    {
     "name": "stdout",
     "output_type": "stream",
     "text": [
      "Lydia King\n"
     ]
    }
   ],
   "source": [
    "print(\"Lydia King\")"
   ]
  },
  {
   "cell_type": "markdown",
   "metadata": {},
   "source": [
    "### Import the \"pandas\" \"numpy\" and \"statsmodels.formula.api\" libraries"
   ]
  },
  {
   "cell_type": "code",
   "execution_count": 34,
   "metadata": {},
   "outputs": [],
   "source": [
    "# Write your answer here:\n",
    "\n",
    "import numpy as np\n",
    "import pandas as pd\n",
    "import statsmodels.formula.api as smf"
   ]
  },
  {
   "cell_type": "markdown",
   "metadata": {},
   "source": [
    "#### In the code chunk below read the CSV file named `results.csv` in the `data` <br> folder and print the first 5 rows of the dataset. Browse the dataset."
   ]
  },
  {
   "cell_type": "code",
   "execution_count": 7,
   "metadata": {},
   "outputs": [
    {
     "name": "stdout",
     "output_type": "stream",
     "text": [
      "   resultId  raceId  driverId  constructorId number  grid position  \\\n",
      "0         1      18         1              1     22     1        1   \n",
      "1         2      18         2              2      3     5        2   \n",
      "2         3      18         3              3      7     7        3   \n",
      "3         4      18         4              4      5    11        4   \n",
      "4         5      18         5              1     23     3        5   \n",
      "\n",
      "  positionText  positionOrder  points  laps         time milliseconds  \\\n",
      "0            1              1    10.0    58  1:34:50.616      5690616   \n",
      "1            2              2     8.0    58       +5.478      5696094   \n",
      "2            3              3     6.0    58       +8.163      5698779   \n",
      "3            4              4     5.0    58      +17.181      5707797   \n",
      "4            5              5     4.0    58      +18.014      5708630   \n",
      "\n",
      "  fastestLap rank fastestLapTime fastestLapSpeed  statusId  \n",
      "0         39    2       1:27.452         218.300         1  \n",
      "1         41    3       1:27.739         217.586         1  \n",
      "2         41    5       1:28.090         216.719         1  \n",
      "3         58    7       1:28.603         215.464         1  \n",
      "4         43    1       1:27.418         218.385         1  \n"
     ]
    }
   ],
   "source": [
    "#read csv\n",
    "results = pd.read_csv(\"data/results.csv\")\n",
    "\n",
    "#print the first 5 rows\n",
    "print(results.head())"
   ]
  },
  {
   "cell_type": "markdown",
   "metadata": {},
   "source": [
    "### (a)  Check Column Types and Data Cleaning\n",
    "\n",
    "- Use the function .dtypes to get the column types\n",
    "- Identify which columns have data types that might need conversion\n",
    "- The 'milliseconds' column contains string values that should be numeric. Create a new column called 'race_time_ms' that:\n",
    "    - Converts the column to a numeric data type\n",
    "    - Replaces any non-numeric values with NaN"
   ]
  },
  {
   "cell_type": "code",
   "execution_count": 55,
   "metadata": {},
   "outputs": [],
   "source": [
    "# Write your answer here\n",
    "\n",
    "#find column types\n",
    "results.dtypes\n",
    "\n",
    "# If a column that's supposed to be \"numeric\" but appears as \"object\",\n",
    "# then it needs to be cleaned and converted to numeric \n",
    "\n",
    "#We can see that number, position, positionText, positionOrder, time, milliseconds, fastest lap,\n",
    "#rank, fastestlaptime, fastestlapspeed need to be converted\n",
    "\n",
    "\n",
    "# I found the solution to removing NA's online - coerce identifies non-numeric numbers and automatically converts them\n",
    "results[\"race_time_ms\"] = pd.to_numeric(results[\"milliseconds\"], errors ='coerce')\n",
    "\n",
    "\n",
    "#OTHER METHOD\n",
    "\n",
    "\n",
    "# figure out when milliseconds = numeric\n",
    "is_numeric = results[\"milliseconds\"].str.isnumeric()\n",
    "\n",
    "# filter instances where it's not numeric\n",
    "subset = results[is_numeric == False]\n",
    "\n",
    "\n",
    "#make our lists\n",
    "list_old = ['\\\\N']\n",
    "\n",
    "list_new = [np.nan]\n",
    "\n",
    "#convert to numeric and add in Nan\n",
    "\n",
    "results[\"race_time_ms\"] = results[\"milliseconds\"].replace(list_old, list_new)\n",
    "results[\"race_time_ms\"] = pd.to_numeric(results[\"race_time_ms\"])\n",
    "\n",
    "\n",
    "\n",
    "\n",
    "\n",
    "\n",
    "\n",
    "\n"
   ]
  },
  {
   "cell_type": "markdown",
   "metadata": {},
   "source": [
    "### (b) Create Categorical Variables\n",
    "\n",
    "- Create a new column called 'finish_category' that categorizes the race finish positions as follows:\n",
    "    - Positions 1-3: 'Podium'\n",
    "    - Positions 4-10: 'Points'\n",
    "    - Positions 11-20: 'Midfield'\n",
    "    - Positions >20: 'Backmarker'\n",
    "\n",
    "Hint: Use the pd.cut() function"
   ]
  },
  {
   "cell_type": "code",
   "execution_count": 48,
   "metadata": {},
   "outputs": [],
   "source": [
    "# Write your answer here\n",
    "\n",
    "# Had to convert to numeric\n",
    "results[\"position\"] = pd.to_numeric(results[\"position\"], errors='coerce')\n",
    "\n",
    "# Define bins and labels\n",
    "bins_x = [0, 3, 10, 20, float('inf')]\n",
    "labels_x = ['Podium', 'Points', 'Midfield', 'Backmarker']\n",
    "\n",
    "# Using the pd.cut function\n",
    "results['finish_category'] = pd.cut(results[\"position\"],\n",
    "                                    bins=bins_x,\n",
    "                                    labels=labels_x,\n",
    "                                    right=True)"
   ]
  },
  {
   "cell_type": "markdown",
   "metadata": {},
   "source": [
    "### (c) Calculate Race Duration\n",
    "- For rows where 'milliseconds' is available, create a new column <br>\n",
    "'race_duration_minutes' that converts milliseconds to minutes by dividing <br>\n",
    "by (1000*60).\n",
    "- Display the average race duration by 'constructorId' for the top 5 <br>\n",
    "constructors with the shortest average race times"
   ]
  },
  {
   "cell_type": "code",
   "execution_count": 43,
   "metadata": {},
   "outputs": [
    {
     "name": "stdout",
     "output_type": "stream",
     "text": [
      "84.0898696372549\n"
     ]
    }
   ],
   "source": [
    "# Write your answer here\n",
    "\n",
    "#New variable \n",
    "results[\"race_duration_minutes\"] = results[\"race_time_ms\"]/(1000*60)\n",
    "\n",
    "\n",
    "# Sort\n",
    "average_race_duration = (\n",
    "    results.groupby(\"constructorId\")\n",
    "           .agg(mean_race_duration=('race_duration_minutes', 'mean'))\n",
    "           .sort_values('mean_race_duration')  # Sort ascending to get shortest times\n",
    ")\n",
    "\n",
    "# Constructors with the top 5 average speeds\n",
    "top_5_race = average_race_duration.head(5)\n",
    "\n",
    "#Average of the top 5 speeds\n",
    "average_top_5 = top_5_race[\"mean_race_duration\"].mean()\n",
    "\n",
    "#check work\n",
    "print(average_top_5)"
   ]
  },
  {
   "cell_type": "markdown",
   "metadata": {},
   "source": [
    "### (d) Driver Performance Analysis\n",
    "\n",
    "- Calculate the following statistics for each driver, grouped by 'driverId':\n",
    "    - Average finishing position\n",
    "    - Total points\n",
    "    - Number of races completed\n",
    "    - Best finishing position\n",
    "\n",
    "- Sort the results by total points in descending order\n",
    "- Display the top 10 drivers based on total points"
   ]
  },
  {
   "cell_type": "code",
   "execution_count": null,
   "metadata": {},
   "outputs": [
    {
     "name": "stdout",
     "output_type": "stream",
     "text": [
      "          mean_finishing_position  total_points  races_completed  \\\n",
      "driverId                                                           \n",
      "1                        4.787097        4396.5              310   \n",
      "20                       7.093333        3098.0              300   \n",
      "4                        8.494413        2061.0              358   \n",
      "830                      6.533742        1983.5              163   \n",
      "8                        8.491477        1873.0              352   \n",
      "822                      7.601990        1778.0              201   \n",
      "3                        8.252427        1594.5              206   \n",
      "30                       6.879870        1566.0              308   \n",
      "817                      9.883621        1307.0              232   \n",
      "18                       9.695793        1235.0              309   \n",
      "\n",
      "          best_finishing_position  \n",
      "driverId                           \n",
      "1                               1  \n",
      "20                              1  \n",
      "4                               1  \n",
      "830                             1  \n",
      "8                               1  \n",
      "822                             1  \n",
      "3                               1  \n",
      "30                              1  \n",
      "817                             1  \n",
      "18                              1  \n"
     ]
    }
   ],
   "source": [
    "# Write your answer here\n",
    "\n",
    "# Grouping by driverId\n",
    "driver_performance_analysis = (\n",
    "    results.groupby(\"driverId\")\n",
    "           .agg( #note to self: only have to do .agg once\n",
    "               mean_finishing_position=('positionOrder', 'mean'),\n",
    "               total_points=('points', 'sum'), #what we use to get the sum\n",
    "               races_completed=('raceId', 'count'),#just count number of races\n",
    "               best_finishing_position=('positionOrder', 'min') #find min value\n",
    "           )\n",
    "           .sort_values('total_points', ascending=False)\n",
    ")\n",
    "\n",
    "# Show top 10 drivers by total points\n",
    "print(driver_performance_analysis.head(10))"
   ]
  },
  {
   "cell_type": "markdown",
   "metadata": {},
   "source": [
    "### (e) Linear Regression\n",
    "Create a linear regression model that predicts 'points' based on 'grid' (starting position) and 'laps' completed <br>\n",
    "Use the following steps:\n",
    "\n",
    "- Clean the data to remove any non-numeric values and missing values\n",
    "- Create the regression formula using smf.ols \n",
    "- Display the summary of the regression model using model.summary()\n",
    "\n",
    "What is the predicted points for a driver starting in position 3 and completing 55 laps?\n",
    "\n",
    "Hint: Use ```.dropna()''' to remove missing values from the points, grid, and laps <br>\n",
    "variables."
   ]
  },
  {
   "cell_type": "code",
   "execution_count": 56,
   "metadata": {},
   "outputs": [
    {
     "name": "stdout",
     "output_type": "stream",
     "text": [
      "                            OLS Regression Results                            \n",
      "==============================================================================\n",
      "Dep. Variable:                 points   R-squared:                       0.215\n",
      "Model:                            OLS   Adj. R-squared:                  0.215\n",
      "Method:                 Least Squares   F-statistic:                     3530.\n",
      "Date:                Mon, 24 Mar 2025   Prob (F-statistic):               0.00\n",
      "Time:                        21:31:32   Log-Likelihood:                -70440.\n",
      "No. Observations:               25840   AIC:                         1.409e+05\n",
      "Df Residuals:                   25837   BIC:                         1.409e+05\n",
      "Df Model:                           2                                         \n",
      "Covariance Type:            nonrobust                                         \n",
      "==============================================================================\n",
      "                 coef    std err          t      P>|t|      [0.025      0.975]\n",
      "------------------------------------------------------------------------------\n",
      "Intercept      2.5841      0.054     48.267      0.000       2.479       2.689\n",
      "grid          -0.2248      0.003    -70.621      0.000      -0.231      -0.219\n",
      "laps           0.0393      0.001     50.779      0.000       0.038       0.041\n",
      "==============================================================================\n",
      "Omnibus:                    15818.159   Durbin-Watson:                   0.715\n",
      "Prob(Omnibus):                  0.000   Jarque-Bera (JB):           183648.109\n",
      "Skew:                           2.804   Prob(JB):                         0.00\n",
      "Kurtosis:                      14.795   Cond. No.                         130.\n",
      "==============================================================================\n",
      "\n",
      "Notes:\n",
      "[1] Standard Errors assume that the covariance matrix of the errors is correctly specified.\n",
      "Predicted points for when grid=3 and laps=55: 4.070062614810155\n"
     ]
    }
   ],
   "source": [
    "# Write your answer here\n",
    "\n",
    "# Convert columns to numeric\n",
    "results[\"points\"] = pd.to_numeric(results[\"points\"])\n",
    "results[\"grid\"] = pd.to_numeric(results[\"grid\"])\n",
    "results[\"laps\"] = pd.to_numeric(results[\"laps\"])\n",
    "\n",
    "# Drop rows with missing values in the relevant columns\n",
    "clean_data = results.dropna(subset=[\"points\", \"grid\", \"laps\"])\n",
    "\n",
    "# Create linear regression model\n",
    "model = smf.ols(formula='points ~ grid + laps', data=clean_data).fit()\n",
    "\n",
    "# Display summary of regression model\n",
    "print(model.summary())\n",
    "\n",
    "# Predict points for a driver starting in position 3 and completing 55 laps\n",
    "predicted_points = model.predict({\"grid\": 3, \"laps\": 55})\n",
    "\n",
    "print(\"Predicted points for when grid=3 and laps=55:\", predicted_points.iloc[0])\n"
   ]
  }
 ],
 "metadata": {
  "kernelspec": {
   "display_name": "Python 3",
   "language": "python",
   "name": "python3"
  },
  "language_info": {
   "codemirror_mode": {
    "name": "ipython",
    "version": 3
   },
   "file_extension": ".py",
   "mimetype": "text/x-python",
   "name": "python",
   "nbconvert_exporter": "python",
   "pygments_lexer": "ipython3",
   "version": "3.8.8"
  }
 },
 "nbformat": 4,
 "nbformat_minor": 2
}
