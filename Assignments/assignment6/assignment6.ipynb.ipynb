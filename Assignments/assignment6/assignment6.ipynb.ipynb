{
 "cells": [
  {
   "attachments": {},
   "cell_type": "markdown",
   "metadata": {},
   "source": [
    "# Assignment 6"
   ]
  },
  {
   "attachments": {},
   "cell_type": "markdown",
   "metadata": {},
   "source": [
    "## Try to submit as an HTML file"
   ]
  },
  {
   "attachments": {},
   "cell_type": "markdown",
   "metadata": {},
   "source": [
    "<font size = \"5\">\n",
    "Print your Emory code below"
   ]
  },
  {
   "cell_type": "code",
   "execution_count": 1,
   "metadata": {},
   "outputs": [
    {
     "name": "stdout",
     "output_type": "stream",
     "text": [
      "laking8\n"
     ]
    }
   ],
   "source": [
    "print(\"laking8\")"
   ]
  },
  {
   "attachments": {},
   "cell_type": "markdown",
   "metadata": {},
   "source": [
    "<font size = \"5\">\n",
    "\n",
    "Import the \"pandas\" and \"matplotlib.pyplot\" libraries"
   ]
  },
  {
   "cell_type": "code",
   "execution_count": 12,
   "metadata": {},
   "outputs": [],
   "source": [
    "# Write your answer here:\n",
    "\n",
    "import pandas as pd \n",
    "import matplotlib.pyplot as plt\n",
    "import os as os\n"
   ]
  },
  {
   "attachments": {},
   "cell_type": "markdown",
   "metadata": {},
   "source": [
    "<font size = \"5\">\n",
    "\n",
    "(a) Functions\n",
    "\n",
    "<font size = \"3\">\n",
    "\n",
    "- Read the dataset labelled features.csv.\n",
    "- Create a ``` lambda ``` function that checks if displacement $>$ 200\n",
    "- Create a new list that shows true if displacement $>$ 200 and false <br>\n",
    "if displacement $\\leq$ 200.\n",
    "- Count how many cars have displacement $> 200$.\n",
    "\n",
    "To get full credit use either the apply or the map function <br>\n",
    "(see Lectures 7 and 8)"
   ]
  },
  {
   "cell_type": "code",
   "execution_count": 32,
   "metadata": {},
   "outputs": [
    {
     "name": "stdout",
     "output_type": "stream",
     "text": [
      "/Users/lydiaking/Documents/GitHub/qtm151spring2025/Assignments/assignment6\n",
      "Number of cars with displacement > 200: 158\n"
     ]
    }
   ],
   "source": [
    "# Write your answer here:\n",
    "\n",
    "#I was getting some errors doing file recall so I just made sure that I was in the right working directory\n",
    "#get wd\n",
    "current_directory = os.getcwd()\n",
    "#print wd\n",
    "print(current_directory)\n",
    "\n",
    "# Read the features.csv file\n",
    "features = pd.read_csv(\"data/features.csv\")\n",
    "\n",
    "# Lambda function that checks if displacement > 200\n",
    "features_displacement = lambda displacement: displacement > 200\n",
    "\n",
    "# Creating an empty list\n",
    "new_list = []\n",
    "\n",
    "# Apply the lambda function and append the result to the list\n",
    "# Apply the lambda function to the displacement column and create a new list\n",
    "new_list = features[\"displacement\"].apply(features_displacement).tolist()\n",
    "\n",
    "# Count how many cars have displacement > 200; this works because the sum function should treat \"True\" as 1, and \"False\" as zero\n",
    "original_count = sum(new_list)\n",
    "\n",
    "# Print the result\n",
    "print(\"Number of cars with displacement > 200:\", original_count)\n",
    "    \n",
    "\n",
    "\n",
    "\n"
   ]
  },
  {
   "attachments": {},
   "cell_type": "markdown",
   "metadata": {},
   "source": [
    "<font size = \"5\">\n",
    "\n",
    "(b) Subsetting Data\n",
    "\n",
    "<font size = \"3\" >\n",
    "\n",
    "- Read the dataset labelled features.csv.\n",
    "- Define a global variable called ```threshold``` that takes the <br>\n",
    "value 2588\n",
    "- Subset the data to get one dataset with weight $>$ threshold and <br>\n",
    "another with weight $\\le$ 2588. Use the ```.query()``` function.\n",
    "- Compute the mean acceleration for each of these datasets.<br>\n",
    "\n",
    "Note: Review how to define a gloabl variable inside ```.query()```\n",
    " "
   ]
  },
  {
   "cell_type": "code",
   "execution_count": 52,
   "metadata": {},
   "outputs": [
    {
     "name": "stdout",
     "output_type": "stream",
     "text": [
      " the mean for weight > threshold is 14.972457627118644\n",
      " the mean for weight <= 2588 is 16.435802469135812\n"
     ]
    }
   ],
   "source": [
    "# Write your answer here:\n",
    "\n",
    "#read dataset labeled features.csv\n",
    "features = pd.read_csv(\"data/features.csv\")\n",
    "\n",
    "#define a global variable called threshold that takes value 2588\n",
    "threshold = 2588\n",
    "\n",
    "#subset according to stipulated conditions using .query\n",
    "subset_features_1 = features.query(\"weight > @threshold\")\n",
    "\n",
    "subset_features_2 = features.query(\"weight <= 2588\")\n",
    "\n",
    "#compute mean acceleration for each dataset\n",
    "\n",
    "print(\" the mean for weight > threshold is \" + str(subset_features_1[\"acceleration\"].mean()))\n",
    "\n",
    "print(\" the mean for weight <= 2588 is \" + str(subset_features_2[\"acceleration\"].mean()))\n"
   ]
  },
  {
   "cell_type": "markdown",
   "metadata": {},
   "source": [
    "<font size = \"5\">\n",
    "\n",
    "(c) Use sorting + \".iloc[]\"\n",
    "\n",
    "<font size = \"3\">\n",
    "\n",
    "- Read the \"fifa23_players_basic.csv\" dataset\n",
    "- Use \".sort_values()\" to order the \"Age\" column <br>\n",
    "from youngest to oldest\n",
    "- Get a subset with the 5 youngest players"
   ]
  },
  {
   "cell_type": "code",
   "execution_count": 56,
   "metadata": {},
   "outputs": [
    {
     "data": {
      "application/vnd.microsoft.datawrangler.viewer.v0+json": {
       "columns": [
        {
         "name": "index",
         "rawType": "int64",
         "type": "integer"
        },
        {
         "name": "Known As",
         "rawType": "object",
         "type": "string"
        },
        {
         "name": "Full Name",
         "rawType": "object",
         "type": "string"
        },
        {
         "name": "Overall",
         "rawType": "int64",
         "type": "integer"
        },
        {
         "name": "Potential",
         "rawType": "int64",
         "type": "integer"
        },
        {
         "name": "Value(in Euro)",
         "rawType": "int64",
         "type": "integer"
        },
        {
         "name": "Positions Played",
         "rawType": "object",
         "type": "string"
        },
        {
         "name": "Best Position",
         "rawType": "object",
         "type": "string"
        },
        {
         "name": "Nationality",
         "rawType": "object",
         "type": "string"
        },
        {
         "name": "Image Link",
         "rawType": "object",
         "type": "string"
        },
        {
         "name": "Age",
         "rawType": "int64",
         "type": "integer"
        },
        {
         "name": "Height(in cm)",
         "rawType": "int64",
         "type": "integer"
        },
        {
         "name": "Weight(in kg)",
         "rawType": "int64",
         "type": "integer"
        },
        {
         "name": "TotalStats",
         "rawType": "int64",
         "type": "integer"
        },
        {
         "name": "BaseStats",
         "rawType": "int64",
         "type": "integer"
        },
        {
         "name": "Club Name",
         "rawType": "object",
         "type": "string"
        },
        {
         "name": "Wage(in Euro)",
         "rawType": "int64",
         "type": "integer"
        },
        {
         "name": "Release Clause",
         "rawType": "int64",
         "type": "integer"
        },
        {
         "name": "Club Position",
         "rawType": "object",
         "type": "string"
        },
        {
         "name": "Contract Until",
         "rawType": "object",
         "type": "string"
        },
        {
         "name": "Club Jersey Number",
         "rawType": "object",
         "type": "string"
        },
        {
         "name": "Joined On",
         "rawType": "int64",
         "type": "integer"
        },
        {
         "name": "On Loan",
         "rawType": "object",
         "type": "string"
        },
        {
         "name": "Preferred Foot",
         "rawType": "object",
         "type": "string"
        },
        {
         "name": "Weak Foot Rating",
         "rawType": "int64",
         "type": "integer"
        },
        {
         "name": "Skill Moves",
         "rawType": "int64",
         "type": "integer"
        },
        {
         "name": "International Reputation",
         "rawType": "int64",
         "type": "integer"
        },
        {
         "name": "National Team Name",
         "rawType": "object",
         "type": "string"
        },
        {
         "name": "National Team Image Link",
         "rawType": "object",
         "type": "string"
        },
        {
         "name": "National Team Position",
         "rawType": "object",
         "type": "string"
        },
        {
         "name": "National Team Jersey Number",
         "rawType": "object",
         "type": "string"
        },
        {
         "name": "Attacking Work Rate",
         "rawType": "object",
         "type": "string"
        },
        {
         "name": "Defensive Work Rate",
         "rawType": "object",
         "type": "string"
        }
       ],
       "conversionMethod": "pd.DataFrame",
       "ref": "f9f27609-c517-4486-a3be-06a45d4d3b4e",
       "rows": [
        [
         "17956",
         "A. Dithmer",
         "Andreas Dithmer",
         "53",
         "76",
         "275000",
         "GK",
         "GK",
         "Denmark",
         "https://cdn.sofifa.net/players/269/573/23_60.png",
         "16",
         "198",
         "82",
         "956",
         "306",
         "F.C. København",
         "500",
         "633000",
         "RES",
         "2025",
         "41",
         "2022",
         "-",
         "Right",
         "2",
         "1",
         "1",
         "-",
         "https://cdn.sofifa.net/flags/dk.png",
         "-",
         "-",
         "Medium",
         "Medium"
        ],
        [
         "18014",
         "J. Ardila",
         "José Ardila",
         "53",
         "73",
         "250000",
         "CM",
         "CAM",
         "Venezuela",
         "https://cdn.sofifa.net/players/268/892/23_60.png",
         "16",
         "178",
         "70",
         "1469",
         "312",
         "Estudiantes de Mérida",
         "500",
         "788000",
         "SUB",
         "2024",
         "36",
         "2022",
         "-",
         "Right",
         "3",
         "2",
         "1",
         "-",
         "https://cdn.sofifa.net/flags/ve.png",
         "-",
         "-",
         "Medium",
         "Medium"
        ],
        [
         "16084",
         "S. Ngoma",
         "Serge Ngoma",
         "58",
         "82",
         "650000",
         "RW",
         "RM",
         "United States",
         "https://cdn.sofifa.net/players/267/796/23_60.png",
         "16",
         "178",
         "75",
         "1495",
         "340",
         "New York Red Bulls",
         "500",
         "1600000",
         "SUB",
         "2025",
         "22",
         "2022",
         "-",
         "Right",
         "3",
         "2",
         "1",
         "-",
         "https://cdn.sofifa.net/flags/us.png",
         "-",
         "-",
         "High",
         "Medium"
        ],
        [
         "11481",
         "O. Vargas",
         "Obed Vargas",
         "64",
         "81",
         "1500000",
         "CM,CDM,RM",
         "CAM",
         "United States",
         "https://cdn.sofifa.net/players/263/701/23_60.png",
         "16",
         "175",
         "68",
         "1660",
         "353",
         "Seattle Sounders FC",
         "500",
         "3200000",
         "RES",
         "2026",
         "73",
         "2021",
         "-",
         "Right",
         "3",
         "3",
         "1",
         "-",
         "https://cdn.sofifa.net/flags/us.png",
         "-",
         "-",
         "High",
         "Medium"
        ],
        [
         "17591",
         "A. Madaliński",
         "Alan Madaliński",
         "54",
         "68",
         "210000",
         "GK",
         "GK",
         "Poland",
         "https://cdn.sofifa.net/players/270/590/23_60.png",
         "16",
         "186",
         "76",
         "838",
         "287",
         "Miedź Legnica",
         "500",
         "415000",
         "RES",
         "2024",
         "12",
         "2021",
         "-",
         "Right",
         "3",
         "1",
         "1",
         "-",
         "https://cdn.sofifa.net/flags/pl.png",
         "-",
         "-",
         "Medium",
         "Medium"
        ]
       ],
       "shape": {
        "columns": 32,
        "rows": 5
       }
      },
      "text/html": [
       "<div>\n",
       "<style scoped>\n",
       "    .dataframe tbody tr th:only-of-type {\n",
       "        vertical-align: middle;\n",
       "    }\n",
       "\n",
       "    .dataframe tbody tr th {\n",
       "        vertical-align: top;\n",
       "    }\n",
       "\n",
       "    .dataframe thead th {\n",
       "        text-align: right;\n",
       "    }\n",
       "</style>\n",
       "<table border=\"1\" class=\"dataframe\">\n",
       "  <thead>\n",
       "    <tr style=\"text-align: right;\">\n",
       "      <th></th>\n",
       "      <th>Known As</th>\n",
       "      <th>Full Name</th>\n",
       "      <th>Overall</th>\n",
       "      <th>Potential</th>\n",
       "      <th>Value(in Euro)</th>\n",
       "      <th>Positions Played</th>\n",
       "      <th>Best Position</th>\n",
       "      <th>Nationality</th>\n",
       "      <th>Image Link</th>\n",
       "      <th>Age</th>\n",
       "      <th>...</th>\n",
       "      <th>Preferred Foot</th>\n",
       "      <th>Weak Foot Rating</th>\n",
       "      <th>Skill Moves</th>\n",
       "      <th>International Reputation</th>\n",
       "      <th>National Team Name</th>\n",
       "      <th>National Team Image Link</th>\n",
       "      <th>National Team Position</th>\n",
       "      <th>National Team Jersey Number</th>\n",
       "      <th>Attacking Work Rate</th>\n",
       "      <th>Defensive Work Rate</th>\n",
       "    </tr>\n",
       "  </thead>\n",
       "  <tbody>\n",
       "    <tr>\n",
       "      <th>17956</th>\n",
       "      <td>A. Dithmer</td>\n",
       "      <td>Andreas Dithmer</td>\n",
       "      <td>53</td>\n",
       "      <td>76</td>\n",
       "      <td>275000</td>\n",
       "      <td>GK</td>\n",
       "      <td>GK</td>\n",
       "      <td>Denmark</td>\n",
       "      <td>https://cdn.sofifa.net/players/269/573/23_60.png</td>\n",
       "      <td>16</td>\n",
       "      <td>...</td>\n",
       "      <td>Right</td>\n",
       "      <td>2</td>\n",
       "      <td>1</td>\n",
       "      <td>1</td>\n",
       "      <td>-</td>\n",
       "      <td>https://cdn.sofifa.net/flags/dk.png</td>\n",
       "      <td>-</td>\n",
       "      <td>-</td>\n",
       "      <td>Medium</td>\n",
       "      <td>Medium</td>\n",
       "    </tr>\n",
       "    <tr>\n",
       "      <th>18014</th>\n",
       "      <td>J. Ardila</td>\n",
       "      <td>José Ardila</td>\n",
       "      <td>53</td>\n",
       "      <td>73</td>\n",
       "      <td>250000</td>\n",
       "      <td>CM</td>\n",
       "      <td>CAM</td>\n",
       "      <td>Venezuela</td>\n",
       "      <td>https://cdn.sofifa.net/players/268/892/23_60.png</td>\n",
       "      <td>16</td>\n",
       "      <td>...</td>\n",
       "      <td>Right</td>\n",
       "      <td>3</td>\n",
       "      <td>2</td>\n",
       "      <td>1</td>\n",
       "      <td>-</td>\n",
       "      <td>https://cdn.sofifa.net/flags/ve.png</td>\n",
       "      <td>-</td>\n",
       "      <td>-</td>\n",
       "      <td>Medium</td>\n",
       "      <td>Medium</td>\n",
       "    </tr>\n",
       "    <tr>\n",
       "      <th>16084</th>\n",
       "      <td>S. Ngoma</td>\n",
       "      <td>Serge Ngoma</td>\n",
       "      <td>58</td>\n",
       "      <td>82</td>\n",
       "      <td>650000</td>\n",
       "      <td>RW</td>\n",
       "      <td>RM</td>\n",
       "      <td>United States</td>\n",
       "      <td>https://cdn.sofifa.net/players/267/796/23_60.png</td>\n",
       "      <td>16</td>\n",
       "      <td>...</td>\n",
       "      <td>Right</td>\n",
       "      <td>3</td>\n",
       "      <td>2</td>\n",
       "      <td>1</td>\n",
       "      <td>-</td>\n",
       "      <td>https://cdn.sofifa.net/flags/us.png</td>\n",
       "      <td>-</td>\n",
       "      <td>-</td>\n",
       "      <td>High</td>\n",
       "      <td>Medium</td>\n",
       "    </tr>\n",
       "    <tr>\n",
       "      <th>11481</th>\n",
       "      <td>O. Vargas</td>\n",
       "      <td>Obed Vargas</td>\n",
       "      <td>64</td>\n",
       "      <td>81</td>\n",
       "      <td>1500000</td>\n",
       "      <td>CM,CDM,RM</td>\n",
       "      <td>CAM</td>\n",
       "      <td>United States</td>\n",
       "      <td>https://cdn.sofifa.net/players/263/701/23_60.png</td>\n",
       "      <td>16</td>\n",
       "      <td>...</td>\n",
       "      <td>Right</td>\n",
       "      <td>3</td>\n",
       "      <td>3</td>\n",
       "      <td>1</td>\n",
       "      <td>-</td>\n",
       "      <td>https://cdn.sofifa.net/flags/us.png</td>\n",
       "      <td>-</td>\n",
       "      <td>-</td>\n",
       "      <td>High</td>\n",
       "      <td>Medium</td>\n",
       "    </tr>\n",
       "    <tr>\n",
       "      <th>17591</th>\n",
       "      <td>A. Madaliński</td>\n",
       "      <td>Alan Madaliński</td>\n",
       "      <td>54</td>\n",
       "      <td>68</td>\n",
       "      <td>210000</td>\n",
       "      <td>GK</td>\n",
       "      <td>GK</td>\n",
       "      <td>Poland</td>\n",
       "      <td>https://cdn.sofifa.net/players/270/590/23_60.png</td>\n",
       "      <td>16</td>\n",
       "      <td>...</td>\n",
       "      <td>Right</td>\n",
       "      <td>3</td>\n",
       "      <td>1</td>\n",
       "      <td>1</td>\n",
       "      <td>-</td>\n",
       "      <td>https://cdn.sofifa.net/flags/pl.png</td>\n",
       "      <td>-</td>\n",
       "      <td>-</td>\n",
       "      <td>Medium</td>\n",
       "      <td>Medium</td>\n",
       "    </tr>\n",
       "  </tbody>\n",
       "</table>\n",
       "<p>5 rows × 32 columns</p>\n",
       "</div>"
      ],
      "text/plain": [
       "            Known As        Full Name  Overall  Potential  Value(in Euro)  \\\n",
       "17956     A. Dithmer  Andreas Dithmer       53         76          275000   \n",
       "18014      J. Ardila      José Ardila       53         73          250000   \n",
       "16084       S. Ngoma      Serge Ngoma       58         82          650000   \n",
       "11481      O. Vargas      Obed Vargas       64         81         1500000   \n",
       "17591  A. Madaliński  Alan Madaliński       54         68          210000   \n",
       "\n",
       "      Positions Played Best Position    Nationality  \\\n",
       "17956               GK            GK        Denmark   \n",
       "18014               CM           CAM      Venezuela   \n",
       "16084               RW            RM  United States   \n",
       "11481        CM,CDM,RM           CAM  United States   \n",
       "17591               GK            GK         Poland   \n",
       "\n",
       "                                             Image Link  Age  ...  \\\n",
       "17956  https://cdn.sofifa.net/players/269/573/23_60.png   16  ...   \n",
       "18014  https://cdn.sofifa.net/players/268/892/23_60.png   16  ...   \n",
       "16084  https://cdn.sofifa.net/players/267/796/23_60.png   16  ...   \n",
       "11481  https://cdn.sofifa.net/players/263/701/23_60.png   16  ...   \n",
       "17591  https://cdn.sofifa.net/players/270/590/23_60.png   16  ...   \n",
       "\n",
       "       Preferred Foot  Weak Foot Rating  Skill Moves  \\\n",
       "17956           Right                 2            1   \n",
       "18014           Right                 3            2   \n",
       "16084           Right                 3            2   \n",
       "11481           Right                 3            3   \n",
       "17591           Right                 3            1   \n",
       "\n",
       "       International Reputation National Team Name  \\\n",
       "17956                         1                  -   \n",
       "18014                         1                  -   \n",
       "16084                         1                  -   \n",
       "11481                         1                  -   \n",
       "17591                         1                  -   \n",
       "\n",
       "                  National Team Image Link  National Team Position  \\\n",
       "17956  https://cdn.sofifa.net/flags/dk.png                       -   \n",
       "18014  https://cdn.sofifa.net/flags/ve.png                       -   \n",
       "16084  https://cdn.sofifa.net/flags/us.png                       -   \n",
       "11481  https://cdn.sofifa.net/flags/us.png                       -   \n",
       "17591  https://cdn.sofifa.net/flags/pl.png                       -   \n",
       "\n",
       "      National Team Jersey Number Attacking Work Rate Defensive Work Rate  \n",
       "17956                           -              Medium              Medium  \n",
       "18014                           -              Medium              Medium  \n",
       "16084                           -                High              Medium  \n",
       "11481                           -                High              Medium  \n",
       "17591                           -              Medium              Medium  \n",
       "\n",
       "[5 rows x 32 columns]"
      ]
     },
     "metadata": {},
     "output_type": "display_data"
    }
   ],
   "source": [
    "# Write your answer here:\n",
    "\n",
    "#read fifa\n",
    "fifa23 = pd.read_csv(\"data/fifa23_players_basic.csv\")\n",
    "\n",
    "#use sort values for age column\n",
    "fifa_ascending_age = fifa23.sort_values(by = \"Age\")\n",
    "\n",
    "#subset for 5 youngest players\n",
    "display (fifa_ascending_age.iloc [0:5, :])\n",
    "\n"
   ]
  },
  {
   "cell_type": "markdown",
   "metadata": {},
   "source": [
    "<font size = \"5\">\n",
    "\n",
    "(d) Use queries + global variables\n",
    "\n",
    "<font size = \"3\">\n",
    "\n",
    "- Read the \"fifa23_players_basic.csv\" dataset\n",
    "- Compute the mean of the column \"Wage(in Euro)\" <br>\n",
    "and store it as a variable\n",
    "- Subset the players whose value is above the mean value <br>\n",
    "  using \".query()\"\n",
    "\n",
    "\n",
    "HINT: Remember that there is a special syntax for <br>\n",
    "when the column names have spaces (see Lecture 10) <br>\n",
    "Reference the column as ``` `Wage(in Euro)`    ``` inside .query()"
   ]
  },
  {
   "cell_type": "code",
   "execution_count": 63,
   "metadata": {},
   "outputs": [
    {
     "name": "stdout",
     "output_type": "stream",
     "text": [
      "8824.537461567506\n"
     ]
    }
   ],
   "source": [
    "# Write your answer here:\n",
    "\n",
    "#read fifa\n",
    "fifa23 = pd.read_csv(\"data/fifa23_players_basic.csv\")\n",
    "\n",
    "#Compute mean of \"Wage(in Euro)\" and store as a variable\n",
    "fifa_mean_wage = fifa23[\"Wage(in Euro)\"].mean()\n",
    "\n",
    "#subset players whose value is above mean value\n",
    "fifa_above_average_wage = fifa23.query(\"`Wage(in Euro)` > @fifa_mean_wage\" )\n",
    "\n",
    "\n",
    "\n"
   ]
  },
  {
   "cell_type": "markdown",
   "metadata": {},
   "source": [
    "<font size = \"5\">\n",
    "\n",
    "(e) Plot by Category\n",
    "\n",
    "<font size = \"3\">\n",
    "\n",
    "Read the \"data/wdi_urban.csv\" dataset.\n",
    "\n",
    "  This contains data from 1980 and 2020.\n",
    "\n",
    "- **Create a list with the unique values of \"year\"**\n",
    "\n",
    "- **Create a plot with a ...**\n",
    "    - Histogram of \"prop_urbanpopulation\" for each year\n",
    "    - Set the histogram option `alpha = 0.5` for transparency\n",
    "    - All the histograms should be overlapping\n",
    "    - Create a legend with the list of years\n",
    "    - Label the axes and the title\n"
   ]
  },
  {
   "cell_type": "code",
   "execution_count": 85,
   "metadata": {},
   "outputs": [
    {
     "data": {
      "image/png": "[encoded data removed]",
      "text/plain": [
       "<Figure size 432x288 with 1 Axes>"
      ]
     },
     "metadata": {
      "needs_background": "light"
     },
     "output_type": "display_data"
    }
   ],
   "source": [
    "# Write your answer here:\n",
    "\n",
    "# Read the urban dataset\n",
    "urban = pd.read_csv(\"data/wdi_urban.csv\")\n",
    "\n",
    "# Create a list with unique values of \"year\"\n",
    "list_urban_unique = pd.unique(urban[\"year\"])\n",
    "\n",
    "# Plotting histograms\n",
    "for year in list_urban_unique:\n",
    "    df = urban.query(\"year == @year\")\n",
    "    plt.hist(df[\"prop_urbanpopulation\"], alpha=0.5, label=str(year))\n",
    "\n",
    "# Label the axes and title\n",
    "plt.xlabel(\"Proportion Urban Population\")\n",
    "plt.ylabel(\"Frequency\")\n",
    "plt.title(\"Urban Population Proportion in 1980 and 2020\")\n",
    "\n",
    "# Create a legend\n",
    "plt.legend()\n",
    "\n",
    "# Show the plot\n",
    "plt.show()\n",
    "\n",
    "\n",
    "\n",
    "\n",
    "\n",
    "\n",
    "\n",
    "\n"
   ]
  }
 ],
 "metadata": {
  "kernelspec": {
   "display_name": "Python 3",
   "language": "python",
   "name": "python3"
  },
  "language_info": {
   "codemirror_mode": {
    "name": "ipython",
    "version": 3
   },
   "file_extension": ".py",
   "mimetype": "text/x-python",
   "name": "python",
   "nbconvert_exporter": "python",
   "pygments_lexer": "ipython3",
   "version": "3.8.8"
  },
  "orig_nbformat": 4
 },
 "nbformat": 4,
 "nbformat_minor": 2
}
