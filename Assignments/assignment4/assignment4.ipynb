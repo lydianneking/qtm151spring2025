{
 "cells": [
  {
   "cell_type": "markdown",
   "metadata": {},
   "source": [
    "# Assignment 4"
   ]
  },
  {
   "cell_type": "markdown",
   "metadata": {},
   "source": [
    "## Submit as an HTML file"
   ]
  },
  {
   "cell_type": "markdown",
   "metadata": {},
   "source": [
    "<font size = \"5\">\n",
    "Print your name and Emory ID below"
   ]
  },
  {
   "cell_type": "code",
   "execution_count": 1,
   "metadata": {},
   "outputs": [
    {
     "name": "stdout",
     "output_type": "stream",
     "text": [
      "lydia\n",
      "laking8\n"
     ]
    }
   ],
   "source": [
    "print(\"lydia\")\n",
    "print(\"laking8\")"
   ]
  },
  {
   "cell_type": "markdown",
   "metadata": {},
   "source": [
    "<font size = \"5\">\n",
    "Importing relevant libraries (matplotlib, NumPy)"
   ]
  },
  {
   "cell_type": "code",
   "execution_count": 2,
   "metadata": {},
   "outputs": [],
   "source": [
    "import matplotlib.pyplot as plt\n",
    "import numpy as np"
   ]
  },
  {
   "cell_type": "markdown",
   "metadata": {},
   "source": [
    "### a) For-loops and Conditional Statements  \n",
    "\n",
    "Using the list of test scores below, create a new list of students who made the honor roll (students with a grade greater than or equal to 90).  \n",
    "\n",
    "- Create a second list containing student names, where each name directly corresponds to a score in `test_scores`.  \n",
    "- Use a for loop to iterate through both lists and store the names and scores of students who made the honor roll in two new lists:  \n",
    "  - `honor_roll_names`: The names of students who made the honor roll.  \n",
    "  - `honor_roll_scores`: The scores of students who made the honor roll.  \n",
    "- Print the results of both lists."
   ]
  },
  {
   "cell_type": "code",
   "execution_count": 14,
   "metadata": {},
   "outputs": [],
   "source": [
    "test_scores = [85, 92, 88, 96, 75, 91, 89, 98, 72, 90]\n",
    "student_names = [\"Alice\", \"Bob\", \"Charlie\", \"David\", \"Eve\", \n",
    "                 \"Frank\", \"Grace\", \"Hannah\", \"Ivy\", \"Jack\"]\n"
   ]
  },
  {
   "cell_type": "code",
   "execution_count": 67,
   "metadata": {},
   "outputs": [
    {
     "name": "stdout",
     "output_type": "stream",
     "text": [
      "Honor Roll Names: ['Bob', 'David']\n",
      "Honor Roll Scores: [92, 96]\n"
     ]
    }
   ],
   "source": [
    "# Write your answer here\n",
    "\n",
    "#Creating a second list, where each name corresponds to a score\n",
    "\n",
    "new_names_list = []  # List to hold each student's data as a dictionary\n",
    "\n",
    "for i in range(len(student_names)): #In this, I'm showing that I'm iterating through the whole length of the student_names list\n",
    "    student = {\"name\": student_names[i], \"score\": test_scores[i]} #Combining score + name. I added labels so that I'd be able to reference the names vs the scores after I added them to the list\n",
    "    new_names_list.append(student) #Specifying what I'm putting in my list\n",
    "\n",
    "\n",
    "# Creating two new lists: honor_roll_names and honor_roll_scores\n",
    "#Have to make the empty lists, which we will then fill\n",
    "honor_roll_names = []\n",
    "honor_roll_scores = []\n",
    "\n",
    "for student in new_names_list: #this function applies to specifically the \"student\" variable I made earlier\n",
    "    if student[\"score\"] >= 90:  #giving the conditions\n",
    "        honor_roll_names.append(student[\"name\"]) #specifying what to put in the new list\n",
    "        honor_roll_scores.append(student[\"score\"]) #specifying what to put in the new list\n",
    "\n",
    "#Printing the lists\n",
    "print(\"Honor Roll Names:\", honor_roll_names)\n",
    "print(\"Honor Roll Scores:\", honor_roll_scores)\n",
    "\n",
    "\n",
    "\n",
    "\n",
    "    "
   ]
  },
  {
   "cell_type": "markdown",
   "metadata": {},
   "source": [
    "### b) Follow-up to Part (a)  \n",
    "\n",
    "Using NumPy, perform the following operations on the `honor_roll_scores` list:  \n",
    "\n",
    "- Count and print the total number of students who made the honor roll using `np.size()`.  \n",
    "- Calculate and print the average score of the students on the honor roll using `np.mean()`.  \n",
    "- Determine and print the highest score from the honor roll using `np.max()`.  \n",
    "- Print the total number of students, average score and the highest score found.\n",
    "\n",
    "#### Hint:  \n",
    "First convert the scores array to a NumPy array.<br>\n",
    "Use the following NumPy functions where necessary:  \n",
    "- [`np.size()`](https://numpy.org/doc/stable/reference/generated/numpy.size.html)  \n",
    "- [`np.mean()`](https://numpy.org/doc/stable/reference/generated/numpy.mean.html)  \n",
    "- [`np.max()`](https://numpy.org/doc/stable/reference/generated/numpy.amax.html)  "
   ]
  },
  {
   "cell_type": "code",
   "execution_count": 69,
   "metadata": {},
   "outputs": [
    {
     "name": "stdout",
     "output_type": "stream",
     "text": [
      "2\n",
      "94.0\n",
      "96\n"
     ]
    }
   ],
   "source": [
    "#Write your answer here\n",
    "\n",
    "#Convert to an array\n",
    "\n",
    "honor_roll_scores = np.array(honor_roll_scores)\n",
    "\n",
    "#Total number who made honor roll\n",
    "print(np.size(honor_roll_scores))\n",
    "#Average honor roll score\n",
    "print(np.mean(honor_roll_scores))\n",
    "#Highest honor roll score\n",
    "print(np.max(honor_roll_scores))"
   ]
  },
  {
   "cell_type": "markdown",
   "metadata": {},
   "source": [
    "<font size = '5'>\n",
    "c) For-loops + plotting\n",
    "\n",
    "<font size = \"3\">\n",
    "\n",
    "   - Create an array of x-values with all the integers between 1 and 15.\n",
    "   - Create a vector ```vec_y1``` where each element is computed from the formula <br> $ y_1 = 3x^3 + 5x^2 - x$.\n",
    "   - Create a vector ```vec_y2``` where each element is computed from the formula <br> $ y_2 = x^4 - 6x^2 + 2x$.\n",
    "   - Create an object ```list_vectors``` with elements ```vec_y1``` and ```vec_y2```.\n",
    "   - Create a for-loop that goes through each element of ```list_vectors``` and plots each list of $y$ values against $x$.\n",
    "\n",
    "Note: The final output should be a 2-dimensional scatter plot with two sets of points, with the $y_1$ and $y_2$ on the vertical axis, and the $x$ values <br>\n",
    "on the horizontal axis. Remember to always label the axes and add a title to the plot to make it look more professional."
   ]
  },
  {
   "cell_type": "code",
   "execution_count": 36,
   "metadata": {},
   "outputs": [
    {
     "data": {
      "image/png": "[encoded data removed]",
      "text/plain": [
       "<Figure size 432x288 with 1 Axes>"
      ]
     },
     "metadata": {
      "needs_background": "light"
     },
     "output_type": "display_data"
    }
   ],
   "source": [
    "#Write your answer here\n",
    "\n",
    "#Making an array with numbers from 1:15\n",
    "n= 15\n",
    "x = list(range(1,n+1)) #It was including zero, so I had to adjust the range\n",
    "x = np.array(x)\n",
    "\n",
    "#Creating vectors that transforms x \n",
    "vec_y1 = (3*(x**3)) + (5*(x**2)) - x\n",
    "vec_y2 = (x**4) - (6*(x**2)) + (2*x)\n",
    "\n",
    "#Create an object with vec_y1 and vec_y2\n",
    "list_vectors = [vec_y1, vec_y2]\n",
    "\n",
    "\n",
    "#Plotting using a for loop\n",
    "for vec in list_vectors:\n",
    "    plt.scatter(x,vec)  # Plot both vectors against x\n",
    "plt.xlabel(\"x-values\")  # Label for the x-axis \n",
    "plt.ylabel(\"y-values\")  # Label for the y-axis\n",
    "plt.title(\"Scatter Plot of y-values against x-values\")  # Title for the plot\n",
    "plt.legend([\"vec_y1\", \"vec_y2\"])  # distinguishing between vec_y1 and vec_y2\n",
    "plt.show()  # This shows us our plot\n",
    "\n",
    "\n",
    "\n",
    "\n",
    "\n",
    "\n",
    "\n"
   ]
  },
  {
   "cell_type": "markdown",
   "metadata": {},
   "source": [
    "### d) Average grades, learn how to use zip()\n",
    "\n",
    "- Below, write a chunk of code that prints out the average grade for each student. The names and grades are given in the lists below.  \n",
    "- The program should print the student's name and their average grade, formatted like this: \n",
    "\n",
    "```\n",
    "Alice's average grade: 87.67\n",
    "Bob's average grade: 88.0\n",
    "Charlie's average grade: 89.33\n",
    "David's average grade: 96.0\n",
    "Eve's average grade: 78.33\n",
    "```\n",
    "\n",
    "Hints/Tips:\n",
    "- You can use zip() to iterate through multiple lists at once, making the code cleaner.\n",
    "- You can learn more about zip() here: [Python zip() Function](https://www.geeksforgeeks.org/zip-in-python/)\n",
    "- When you print the statements out, you can cast the average grade to a string using str()\n",
    "- Ignore the rounding, the number of decimal places in each calculated average grade does not matter."
   ]
  },
  {
   "cell_type": "code",
   "execution_count": 49,
   "metadata": {},
   "outputs": [],
   "source": [
    "student_names = [\"Alice\", \"Bob\", \"Charlie\", \"David\", \"Eve\"]\n",
    "grades1 = [85, 92, 88, 96, 75]\n",
    "grades2 = [90, 80, 89, 94, 82]\n",
    "grades3 = [88, 95, 91, 98, 78]"
   ]
  },
  {
   "cell_type": "code",
   "execution_count": 70,
   "metadata": {},
   "outputs": [
    {
     "name": "stdout",
     "output_type": "stream",
     "text": [
      "Alice's average grade: 87.66666666666667\n",
      "Bob's average grade: 89.0\n",
      "Charlie's average grade: 89.33333333333333\n",
      "David's average grade: 96.0\n",
      "Eve's average grade: 78.33333333333333\n"
     ]
    }
   ],
   "source": [
    "# Write your answer here\n",
    "\n",
    "#Combining student_names + grades\n",
    "res = zip(student_names, grades1, grades2, grades3)\n",
    "\n",
    "# Calculate average and print\n",
    "for name, g1, g2, g3 in res:\n",
    "    grades = [g1, g2, g3]  # Create a list of the student's grades\n",
    "    average = np.mean(grades)  # Use numpy to calculate the mean\n",
    "    print(name + \"'s average grade: \" + str(average)) #Print our statement\n",
    "\n",
    "\n",
    "\n"
   ]
  },
  {
   "cell_type": "markdown",
   "metadata": {},
   "source": [
    "### e) Simulating and visualizing \n",
    "In order to recieve full credit, please answer the first question in the markdown cell below the code. Answer the second question by making your changes to the code chunk below.\n",
    "- How does the sample size and the number of simulations affect the distribution of the sample means in the code below?\n",
    "- Generate and plot multiple histograms with different sample sizes:\n",
    "    - Create at three histograms: one with a small sample size (e.g., 10), one with a medium sample size (e.g., 100), and one with a large sample size (e.g., 1000).\n",
    "    - Make sure that the number of simulations is the same for all three (set the number of simulations to 250)"
   ]
  },
  {
   "cell_type": "code",
   "execution_count": 74,
   "metadata": {},
   "outputs": [
    {
     "data": {
      "image/png": "[encoded data removed]",
      "text/plain": [
       "<Figure size 432x288 with 1 Axes>"
      ]
     },
     "metadata": {
      "needs_background": "light"
     },
     "output_type": "display_data"
    },
    {
     "data": {
      "image/png": "[encoded data removed]",
      "text/plain": [
       "<Figure size 432x288 with 1 Axes>"
      ]
     },
     "metadata": {
      "needs_background": "light"
     },
     "output_type": "display_data"
    },
    {
     "data": {
      "image/png": "[encoded data removed]",
      "text/plain": [
       "<Figure size 432x288 with 1 Axes>"
      ]
     },
     "metadata": {
      "needs_background": "light"
     },
     "output_type": "display_data"
    }
   ],
   "source": [
    "simulations = 250\n",
    "\n",
    "for sample_size in [10, 100, 1000]:  # This is showing the sample sizes needed\n",
    "    vec_xbar = np.zeros(simulations)  # Initialize array - I had to look this up on stack exchange\n",
    "\n",
    "    for iteration in range(simulations):\n",
    "        vec_graph = np.random.uniform(low=-2, high=2, size=sample_size)\n",
    "        vec_xbar[iteration] = vec_graph.mean()\n",
    "\n",
    "    # Plot histogram\n",
    "    plt.hist(vec_xbar, bins=20)\n",
    "    plt.title(f\"Distribution of Sample Means (Sample Size = {sample_size})\")\n",
    "    plt.ylabel(\"Frequency\")\n",
    "    plt.xlabel(\"Values of Xbar\")\n",
    "    plt.show()"
   ]
  },
  {
   "cell_type": "markdown",
   "metadata": {},
   "source": [
    "### Write your answer in this cell"
   ]
  },
  {
   "cell_type": "code",
   "execution_count": null,
   "metadata": {},
   "outputs": [],
   "source": [
    "#Small sample (write your answer here)\n",
    "\n",
    "When the number of samples is really small, it is more distributed across the whole graph. "
   ]
  },
  {
   "cell_type": "code",
   "execution_count": 12,
   "metadata": {},
   "outputs": [],
   "source": [
    "#Medium sample (write your answer here)\n",
    "\n",
    "We can observe that the range is smaller, meaning that it is more centered around a central value. "
   ]
  },
  {
   "cell_type": "code",
   "execution_count": 61,
   "metadata": {},
   "outputs": [],
   "source": [
    "#Large sample (write your answer here)\n",
    "The range of the x axis is even smaller (it is more normal and converging to the population mean). "
   ]
  }
 ],
 "metadata": {
  "kernelspec": {
   "display_name": "Python 3",
   "language": "python",
   "name": "python3"
  },
  "language_info": {
   "codemirror_mode": {
    "name": "ipython",
    "version": 3
   },
   "file_extension": ".py",
   "mimetype": "text/x-python",
   "name": "python",
   "nbconvert_exporter": "python",
   "pygments_lexer": "ipython3",
   "version": "3.8.8"
  }
 },
 "nbformat": 4,
 "nbformat_minor": 2
}
