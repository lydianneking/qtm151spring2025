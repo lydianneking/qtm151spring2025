{
 "cells": [
  {
   "attachments": {},
   "cell_type": "markdown",
   "metadata": {},
   "source": [
    "# <span style=\"color:darkblue\"> Lecture 2: Variables and Lists </span>"
   ]
  },
  {
   "attachments": {},
   "cell_type": "markdown",
   "metadata": {},
   "source": [
    "<font size=\"5\"> \n",
    "\n",
    "In the previous class we:\n",
    "- Reviewed the basics of Github\n",
    "- Reviewed the basic structure of Jupyter notebooks\n",
    "- Showed how to install and import packages using <br>\n",
    " **virtual environments**"
   ]
  },
  {
   "attachments": {},
   "cell_type": "markdown",
   "metadata": {},
   "source": [
    "<font size=\"5\"> \n",
    "\n",
    "In this class we will:\n",
    "\n",
    "- Introduce variables and lists\n",
    "- Compute a histogram plot\n",
    "- (Optional) Common pitfalls and understanding errors"
   ]
  },
  {
   "attachments": {},
   "cell_type": "markdown",
   "metadata": {},
   "source": [
    "# <span style=\"color:darkblue\"> 1. Import Libraries </span>"
   ]
  },
  {
   "cell_type": "code",
   "execution_count": 2,
   "metadata": {},
   "outputs": [],
   "source": [
    "# The matplotlib library is used to create graphs\n",
    "\n",
    "import matplotlib.pyplot as plt"
   ]
  },
  {
   "attachments": {},
   "cell_type": "markdown",
   "metadata": {},
   "source": [
    "## "
   ]
  },
  {
   "attachments": {},
   "cell_type": "markdown",
   "metadata": {},
   "source": [
    "# <span style=\"color:darkblue\"> 2. Variables and Data Types </span>"
   ]
  },
  {
   "attachments": {},
   "cell_type": "markdown",
   "metadata": {},
   "source": [
    "<font size=\"5\"> \n",
    "\n",
    "Identify the type of object\n",
    "- Integers, Floats (numbers with decimals) or strings (text)\n",
    "- Type is a function, with an argument in parenthesis (...). The way you write down functions in python is write down function and then parentheses"
   ]
  },
  {
   "cell_type": "code",
   "execution_count": 3,
   "metadata": {},
   "outputs": [
    {
     "data": {
      "text/plain": [
       "int"
      ]
     },
     "execution_count": 3,
     "metadata": {},
     "output_type": "execute_result"
    }
   ],
   "source": [
    "type(3)"
   ]
  },
  {
   "cell_type": "code",
   "execution_count": 4,
   "metadata": {},
   "outputs": [
    {
     "data": {
      "text/plain": [
       "float"
      ]
     },
     "execution_count": 4,
     "metadata": {},
     "output_type": "execute_result"
    }
   ],
   "source": [
    "type(3.5)"
   ]
  },
  {
   "cell_type": "code",
   "execution_count": 5,
   "metadata": {},
   "outputs": [
    {
     "name": "stdout",
     "output_type": "stream",
     "text": [
      "<class 'int'>\n",
      "<class 'str'>\n"
     ]
    }
   ],
   "source": [
    "print(type(3))\n",
    "print(type(\"Juans car\"))"
   ]
  },
  {
   "cell_type": "code",
   "execution_count": 6,
   "metadata": {},
   "outputs": [
    {
     "data": {
      "text/plain": [
       "str"
      ]
     },
     "execution_count": 6,
     "metadata": {},
     "output_type": "execute_result"
    }
   ],
   "source": [
    "# You can define strings with either single or double quotations.\n",
    "type(\"hello\")\n"
   ]
  },
  {
   "cell_type": "code",
   "execution_count": 5,
   "metadata": {},
   "outputs": [
    {
     "data": {
      "text/plain": [
       "str"
      ]
     },
     "execution_count": 5,
     "metadata": {},
     "output_type": "execute_result"
    }
   ],
   "source": [
    "type('hello')"
   ]
  },
  {
   "attachments": {},
   "cell_type": "markdown",
   "metadata": {},
   "source": [
    "<font size=\"5\"> \n",
    "\n",
    "Store Variables in memory\n",
    "\n",
    "- Assign variables with \"=\"\n",
    "- Write meaningful names, without spaces\n",
    "- Can use underscore \"_\"\n",
    "- Click \"Variables\" in the top panel of Jupyter Notebooks"
   ]
  },
  {
   "cell_type": "code",
<<<<<<< HEAD
   "execution_count": 14,
=======
   "execution_count": 8,
>>>>>>> upstream/main
   "metadata": {},
   "outputs": [],
   "source": [
    "# Try choosing your names on the left of \"=\"\n",
<<<<<<< HEAD
    "name = \"Lydia\"\n",
    "number3 = 3\n",
    "number3andahalf = 3.5\n"
   ]
  },
  {
   "cell_type": "code",
   "execution_count": 8,
   "metadata": {},
   "outputs": [
    {
     "data": {
      "text/plain": [
       "'Lydia'"
      ]
     },
     "execution_count": 8,
     "metadata": {},
     "output_type": "execute_result"
    }
   ],
   "source": [
    "# You can show the output by writing the name of the variable\n",
    "# Try including different variables\n",
    "name"
=======
    "\n",
    "name = \"Alejandro\"\n",
    "last_name = \"Sanchez\"\n"
>>>>>>> upstream/main
   ]
  },
  {
   "cell_type": "code",
   "execution_count": 9,
   "metadata": {},
   "outputs": [
    {
<<<<<<< HEAD
     "ename": "NameError",
     "evalue": "name 'number3' is not defined",
=======
     "data": {
      "text/plain": [
       "'Alejandro'"
      ]
     },
     "execution_count": 9,
     "metadata": {},
     "output_type": "execute_result"
    }
   ],
   "source": [
    "# You can show the output by writing the name of the variable\n",
    "# Try including different variables\n",
    "\n",
    "name\n"
   ]
  },
  {
   "cell_type": "code",
   "execution_count": 11,
   "metadata": {},
   "outputs": [],
   "source": [
    "number3 = 3\n",
    "number3andhalf = 3.5"
   ]
  },
  {
   "cell_type": "code",
   "execution_count": null,
   "metadata": {},
   "outputs": [
    {
     "ename": "NameError",
     "evalue": "name 'number3asd' is not defined",
>>>>>>> upstream/main
     "output_type": "error",
     "traceback": [
      "\u001b[0;31m---------------------------------------------------------------------------\u001b[0m",
      "\u001b[0;31mNameError\u001b[0m                                 Traceback (most recent call last)",
<<<<<<< HEAD
      "\u001b[0;32m<ipython-input-9-23926a63daac>\u001b[0m in \u001b[0;36m<module>\u001b[0;34m\u001b[0m\n\u001b[1;32m      2\u001b[0m \u001b[0;31m# You can show multiple outputs by using the function \"print\"\u001b[0m\u001b[0;34m\u001b[0m\u001b[0;34m\u001b[0m\u001b[0;34m\u001b[0m\u001b[0m\n\u001b[1;32m      3\u001b[0m \u001b[0;34m\u001b[0m\u001b[0m\n\u001b[0;32m----> 4\u001b[0;31m \u001b[0mprint\u001b[0m\u001b[0;34m(\u001b[0m\u001b[0mnumber3\u001b[0m\u001b[0;34m)\u001b[0m\u001b[0;34m\u001b[0m\u001b[0;34m\u001b[0m\u001b[0m\n\u001b[0m\u001b[1;32m      5\u001b[0m \u001b[0mprint\u001b[0m\u001b[0;34m(\u001b[0m\u001b[0mnumber3andhalf\u001b[0m\u001b[0;34m)\u001b[0m\u001b[0;34m\u001b[0m\u001b[0;34m\u001b[0m\u001b[0m\n",
      "\u001b[0;31mNameError\u001b[0m: name 'number3' is not defined"
=======
      "Cell \u001b[0;32mIn[13], line 4\u001b[0m\n\u001b[1;32m      1\u001b[0m \u001b[38;5;66;03m# Jupyter only shows the output for the last object\u001b[39;00m\n\u001b[1;32m      2\u001b[0m \u001b[38;5;66;03m# You can show multiple outputs by using the function \"print\"\u001b[39;00m\n\u001b[0;32m----> 4\u001b[0m \u001b[38;5;28mprint\u001b[39m(\u001b[43mnumber3asd\u001b[49m)\n\u001b[1;32m      5\u001b[0m \u001b[38;5;28mprint\u001b[39m(number3andhalf)\n",
      "\u001b[0;31mNameError\u001b[0m: name 'number3asd' is not defined"
>>>>>>> upstream/main
     ]
    }
   ],
   "source": [
    "# Jupyter only shows the output for the last object\n",
    "# You can show multiple outputs by using the function \"print\"\n",
    "\n",
    "print(number3asd)\n",
    "print(number3andhalf)"
   ]
  },
  {
   "cell_type": "markdown",
   "metadata": {},
   "source": [
    "<font size = \"5\">\n",
    "\n",
    "Try it yourself!\n",
    "\n",
    "- Create a variable with your favorite movie"
   ]
  },
  {
   "cell_type": "code",
<<<<<<< HEAD
   "execution_count": 11,
=======
   "execution_count": 14,
>>>>>>> upstream/main
   "metadata": {},
   "outputs": [],
   "source": [
    "# Write your own code\n",
    "\n",
<<<<<<< HEAD
    "movie = \"10ThingsIHateaboutYou\"\n",
    "movie2 = \"Incantation\"\n",
    "movie3 = \"LalaLand\"\n",
=======
    "favoritemovie1 = \"10 things I hate about you\"\n",
    "favoritemovie2 = \"Incantation\"\n",
    "favoritemovie3 = \"La La Land\"\n",
    "3\n",
>>>>>>> upstream/main
    "\n"
   ]
  },
  {
   "cell_type": "markdown",
   "metadata": {},
   "source": [
    "# <span style=\"color:darkblue\"> 3. Basic operations on integers, floats, and strings </span>"
   ]
  },
  {
   "attachments": {},
   "cell_type": "markdown",
   "metadata": {},
   "source": [
    "<font size=\"5\"> \n",
    "\n",
    "\n",
    "\n",
    "- Addition (+), Multiplication (*), Subtraction (-),<br>\n",
    " Division (/), Exponentiation (**)\n",
    "- If you try this on a string it will not work"
   ]
  },
  {
   "cell_type": "code",
<<<<<<< HEAD
   "execution_count": 13,
=======
   "execution_count": 18,
>>>>>>> upstream/main
   "metadata": {},
   "outputs": [
    {
     "name": "stdout",
     "output_type": "stream",
     "text": [
      "5\n",
      "6\n",
      "-1\n",
      "0.6666666666666666\n",
      "8\n"
     ]
    }
   ],
   "source": [
    "# Basic operations on numbers\n",
<<<<<<< HEAD
=======
    "\n",
>>>>>>> upstream/main
    "print(2+3)\n",
    "print(2*3)\n",
    "print(2-3)\n",
    "print(2/3)\n",
<<<<<<< HEAD
    "#Expenential is a double star\n",
    "print((2)**3)\n"
=======
    "print((2)**(3))\n"
   ]
  },
  {
   "cell_type": "code",
   "execution_count": 19,
   "metadata": {},
   "outputs": [
    {
     "data": {
      "text/plain": [
       "8"
      ]
     },
     "execution_count": 19,
     "metadata": {},
     "output_type": "execute_result"
    }
   ],
   "source": [
    "2+3\n",
    "2*3\n",
    "2-3\n",
    "2/3\n",
    "2**3"
>>>>>>> upstream/main
   ]
  },
  {
   "attachments": {},
   "cell_type": "markdown",
   "metadata": {},
   "source": [
    "<font size=\"5\"> \n",
    "\n",
    "Use parenthesis for composite operations"
   ]
  },
  {
   "cell_type": "code",
   "execution_count": 20,
   "metadata": {},
   "outputs": [
    {
     "data": {
      "text/plain": [
       "1.4"
      ]
     },
     "execution_count": 20,
     "metadata": {},
     "output_type": "execute_result"
    }
   ],
   "source": [
    "(3 + 4) / 5"
   ]
  },
  {
   "cell_type": "code",
<<<<<<< HEAD
   "execution_count": 15,
=======
   "execution_count": 22,
>>>>>>> upstream/main
   "metadata": {},
   "outputs": [
    {
     "data": {
      "text/plain": [
<<<<<<< HEAD
       "10"
      ]
     },
     "execution_count": 15,
=======
       "3.25"
      ]
     },
     "execution_count": 22,
>>>>>>> upstream/main
     "metadata": {},
     "output_type": "execute_result"
    }
   ],
   "source": [
    "# Try doing the same with the variable \"number3\" or \"number3andhalf instead.\n",
    "\n",
<<<<<<< HEAD
    "number3 + 7\n"
=======
    "(number3 + number3andhalf) /2"
>>>>>>> upstream/main
   ]
  },
  {
   "attachments": {},
   "cell_type": "markdown",
   "metadata": {},
   "source": [
    "<font size=\"5\"> \n",
    "\n",
    "Concatenate \"add\" two strings"
   ]
  },
  {
   "cell_type": "code",
<<<<<<< HEAD
   "execution_count": 16,
=======
   "execution_count": 26,
>>>>>>> upstream/main
   "metadata": {},
   "outputs": [
    {
     "data": {
      "text/plain": [
       "'My name is Alejandro Sanchez Becerra'"
      ]
     },
<<<<<<< HEAD
     "execution_count": 16,
=======
     "execution_count": 26,
>>>>>>> upstream/main
     "metadata": {},
     "output_type": "execute_result"
    }
   ],
   "source": [
    "# Use the + symbol to concatenate two or more strings\n",
    "# This is very useful to contract strings where one part stays the same,\n",
    "# and the other is a user input.\n",
    "\n",
    "first_name = \"Alejandro\"\n",
    "last_name = \"Sanchez Becerra\"\n",
    "\n",
<<<<<<< HEAD
    "#the \" \" just adds a space\n",
    "\n",
    "\"My name is\" + \" \"  + name"
=======
    "\"My name is\" + \" \"  + first_name + \" \" + last_name"
>>>>>>> upstream/main
   ]
  },
  {
   "cell_type": "markdown",
   "metadata": {},
   "source": [
    "<font size = \"5\">\n",
    "\n",
    "Try it yourself!\n",
    "\n",
    "- Define a variable with your name.\n",
    "- Define a new variable with your major.\n",
    "- Print a concantenated string with your name and major\n"
   ]
  },
  {
   "cell_type": "code",
<<<<<<< HEAD
   "execution_count": 21,
   "metadata": {},
   "outputs": [
    {
     "data": {
      "text/plain": [
       "\"My name is lydia, and I'm an anthropology major\""
      ]
     },
     "execution_count": 21,
     "metadata": {},
     "output_type": "execute_result"
=======
   "execution_count": 27,
   "metadata": {},
   "outputs": [
    {
     "name": "stdout",
     "output_type": "stream",
     "text": [
      "I am Joanna majoring in Neuroscience\n"
     ]
>>>>>>> upstream/main
    }
   ],
   "source": [
    "#  Write your own code here\n",
    "\n",
<<<<<<< HEAD
    "name = \"lydia\"\n",
    "major = \"anthropology\"\n",
    "\"My name is\" + \" \" + name + \", and I'm an\" + \" \" + major + \" \" + \"major\"\n"
=======
    "name = \"Joanna\"\n",
    "major = \"Neuroscience\"\n",
    "\n",
    "print(\"I am \" + name + \" majoring in \" + major)\n"
>>>>>>> upstream/main
   ]
  },
  {
   "attachments": {},
   "cell_type": "markdown",
   "metadata": {},
   "source": [
    "# <span style=\"color:darkblue\"> Lists </span>"
   ]
  },
  {
   "attachments": {},
   "cell_type": "markdown",
   "metadata": {},
   "source": [
    "<font size=\"5\"> \n",
    "\n",
    "Store Lists\n",
    "\n",
    "- Lists are always denote by square brackets [...]\n",
    "- Elements separated by commas"
   ]
  },
  {
   "cell_type": "code",
<<<<<<< HEAD
   "execution_count": 22,
=======
   "execution_count": 28,
>>>>>>> upstream/main
   "metadata": {},
   "outputs": [],
   "source": [
    "# List of numbers\n",
    "# Example: Suppose you ask 5 people about their favorite color. The results:\n",
    "list_numbers = [1,2,3,4,5]\n",
    "list_numbers_sqr = [1,4,9,16,25]"
   ]
  },
  {
   "cell_type": "code",
<<<<<<< HEAD
   "execution_count": 23,
=======
   "execution_count": 29,
>>>>>>> upstream/main
   "metadata": {},
   "outputs": [
    {
     "data": {
      "text/plain": [
       "list"
      ]
     },
<<<<<<< HEAD
     "execution_count": 23,
=======
     "execution_count": 29,
>>>>>>> upstream/main
     "metadata": {},
     "output_type": "execute_result"
    }
   ],
   "source": [
    "type(list_numbers)"
   ]
  },
  {
   "cell_type": "code",
<<<<<<< HEAD
   "execution_count": 24,
=======
   "execution_count": 31,
>>>>>>> upstream/main
   "metadata": {},
   "outputs": [],
   "source": [
    "# List with strings\n",
    "# Example: Suppose you ask 5 people about their favorite color. The results:\n",
    "list_colors = [\"red\",\"yellow\",\"yellow\", \"green\",\"red\"]"
   ]
  },
  {
   "cell_type": "code",
<<<<<<< HEAD
   "execution_count": 25,
=======
   "execution_count": 32,
>>>>>>> upstream/main
   "metadata": {},
   "outputs": [],
   "source": [
    "# List with mixed types\n",
    "list_mixed = [\"red\",1,\"yellow\",4,5, 3.5]"
   ]
  },
  {
   "cell_type": "code",
   "execution_count": 34,
   "metadata": {},
   "outputs": [
    {
     "data": {
      "text/plain": [
       "[['red', 1, 'yellow', 4, 5, 3.5], 3, 'h']"
      ]
     },
     "execution_count": 34,
     "metadata": {},
     "output_type": "execute_result"
    }
   ],
   "source": [
    "another_list = [list_mixed, 3, 'h']\n",
<<<<<<< HEAD
    "#list within a list"
=======
    "another_list"
>>>>>>> upstream/main
   ]
  },
  {
   "attachments": {},
   "cell_type": "markdown",
   "metadata": {},
   "source": [
    "<font size=\"5\">\n",
    "\n",
    "Extract individual elements from a list\n",
    "\n",
    "- Use square brackets, e.g. list_colors[2]\n",
    "- Python lists always start at the **ZERO** position\n",
    "\n",
    "\n",
    "<img src=\"figures/house_diagram.png\" alt=\"drawing\" width=\"650\"/>"
   ]
  },
  {
   "cell_type": "code",
<<<<<<< HEAD
   "execution_count": 26,
=======
   "execution_count": 39,
>>>>>>> upstream/main
   "metadata": {},
   "outputs": [
    {
     "data": {
      "text/plain": [
       "'ground'"
      ]
     },
<<<<<<< HEAD
     "execution_count": 26,
=======
     "execution_count": 39,
>>>>>>> upstream/main
     "metadata": {},
     "output_type": "execute_result"
    }
   ],
   "source": [
    "floors_england = [\"ground\", \"floor1\", \"floor2\" ]\n",
    "\n",
    "floors_england[0]"
   ]
  },
  {
   "cell_type": "code",
   "execution_count": 40,
   "metadata": {},
   "outputs": [
    {
     "data": {
      "text/plain": [
       "[['red', 1, 'yellow', 4, 5, 3.5], 3, 'h']"
      ]
     },
     "execution_count": 40,
     "metadata": {},
     "output_type": "execute_result"
    }
   ],
   "source": [
    "another_list"
   ]
  },
  {
   "cell_type": "code",
   "execution_count": 41,
   "metadata": {},
   "outputs": [
    {
     "data": {
      "text/plain": [
       "'yellow'"
      ]
     },
     "execution_count": 41,
     "metadata": {},
     "output_type": "execute_result"
    }
   ],
   "source": [
    "another_list[0][2]"
   ]
  },
  {
   "cell_type": "code",
   "execution_count": 42,
   "metadata": {},
   "outputs": [
    {
     "name": "stdout",
     "output_type": "stream",
     "text": [
      "red\n",
      "yellow\n",
      "yellow\n",
      "green\n",
      "red\n"
     ]
    }
   ],
   "source": [
    "# Use print to show the output of multiple commands\n",
    "print(list_colors[0])\n",
    "print(list_colors[1])\n",
    "print(list_colors[2])\n",
    "print(list_colors[3])\n",
    "print(list_colors[4])"
   ]
  },
  {
   "cell_type": "code",
   "execution_count": 43,
   "metadata": {},
   "outputs": [
    {
     "data": {
      "text/plain": [
       "['red', 'yellow', 'yellow', 'green', 'red']"
      ]
     },
     "execution_count": 43,
     "metadata": {},
     "output_type": "execute_result"
    }
   ],
   "source": [
    "list_colors"
   ]
  },
  {
   "cell_type": "markdown",
   "metadata": {},
   "source": [
    "<font size = \"5\">\n",
    "\n",
    "Try it yourself!\n",
    "\n",
    "- Create a list with four elements, <br>\n",
    " and then selecting the third entry\n",
    "\n"
   ]
  },
  {
   "cell_type": "code",
   "execution_count": 26,
   "metadata": {},
   "outputs": [],
   "source": [
    "# Write your own code here\n",
    "\n",
    "\n",
    "\n"
   ]
  },
  {
   "attachments": {},
   "cell_type": "markdown",
   "metadata": {},
   "source": [
    "# <span style=\"color:darkblue\"> Visualizing Lists </span>"
   ]
  },
  {
   "attachments": {},
   "cell_type": "markdown",
   "metadata": {},
   "source": [
    "<font size=\"5\"> \n",
    "\n",
    "A histogram for categorical data"
   ]
  },
  {
   "cell_type": "code",
<<<<<<< HEAD
   "execution_count": 28,
=======
   "execution_count": 45,
>>>>>>> upstream/main
   "metadata": {},
   "outputs": [
    {
     "data": {
      "text/plain": [
       "['red', 'yellow', 'yellow', 'green', 'red', 'red']"
      ]
     },
<<<<<<< HEAD
     "execution_count": 28,
=======
     "execution_count": 45,
>>>>>>> upstream/main
     "metadata": {},
     "output_type": "execute_result"
    }
   ],
   "source": [
    "list_list = list_colors + ['red']\n",
<<<<<<< HEAD
    "#adding a new element to a list\n",
=======
    "\n",
>>>>>>> upstream/main
    "list_list"
   ]
  },
  {
   "cell_type": "code",
   "execution_count": 29,
   "metadata": {},
   "outputs": [
    {
     "data": {
      "text/plain": [
       "(array([3., 0., 0., 0., 0., 2., 0., 0., 0., 1.]),\n",
       " array([0. , 0.2, 0.4, 0.6, 0.8, 1. , 1.2, 1.4, 1.6, 1.8, 2. ]),\n",
       " <BarContainer object of 10 artists>)"
      ]
     },
     "execution_count": 29,
     "metadata": {},
     "output_type": "execute_result"
    },
    {
     "data": {
      "image/png": "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",
      "text/plain": [
       "<Figure size 432x288 with 1 Axes>"
      ]
     },
     "metadata": {
      "needs_background": "light"
     },
     "output_type": "display_data"
    }
   ],
   "source": [
    "# This creates a histogram with the \"list_colors\"\n",
    "plt.hist(x= list_list)"
   ]
  },
  {
   "cell_type": "code",
   "execution_count": 29,
   "metadata": {},
   "outputs": [],
   "source": [
    "# Creat a list with repeated string values\n",
    "# Compute your own histogram\n",
    "\n"
   ]
  },
  {
   "attachments": {},
   "cell_type": "markdown",
   "metadata": {},
   "source": [
    "<font size=\"5\"> \n",
    "\n",
    "A scatterplot for continuous data"
   ]
  },
  {
   "cell_type": "code",
   "execution_count": 46,
   "metadata": {},
   "outputs": [
    {
     "name": "stdout",
     "output_type": "stream",
     "text": [
      "[1, 2, 3, 4, 5]\n",
      "[1, 4, 9, 16, 25]\n"
     ]
    }
   ],
   "source": [
    "print(list(list_numbers))\n",
    "print(list_numbers_sqr)"
   ]
  },
  {
   "cell_type": "code",
   "execution_count": 47,
   "metadata": {},
   "outputs": [
    {
     "data": {
      "text/plain": [
       "list"
      ]
     },
     "execution_count": 47,
     "metadata": {},
     "output_type": "execute_result"
    }
   ],
   "source": [
    "type(list_numbers)"
   ]
  },
  {
   "cell_type": "code",
   "execution_count": 51,
   "metadata": {},
   "outputs": [
    {
     "data": {
<<<<<<< HEAD
      "image/png": "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",
=======
      "image/png": "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",
>>>>>>> upstream/main
      "text/plain": [
       "<Figure size 432x288 with 1 Axes>"
      ]
     },
     "metadata": {
      "needs_background": "light"
     },
     "output_type": "display_data"
    }
   ],
   "source": [
    "plt.scatter(x = list_numbers, y = list_numbers_sqr)\n",
    "plt.xlabel(\"A meaningful name for the X-axis\")\n",
    "plt.ylabel(\"Favourite name for Y-axis\")\n",
    "plt.show()\n"
   ]
  },
  {
   "cell_type": "markdown",
   "metadata": {},
   "source": [
    "<font size = \"5\">\n",
    "\n",
    "Try it yourself!\n",
    "\n",
    "- Create a list with numbers, then create <br>\n",
    "your own scatter plot\n",
    "\n"
   ]
  },
  {
   "cell_type": "code",
   "execution_count": 33,
   "metadata": {},
   "outputs": [],
   "source": [
    "# Write your own code here\n",
    "\n",
    "\n",
    "\n",
    "\n",
    "\n",
    "\n"
   ]
  },
  {
   "attachments": {},
   "cell_type": "markdown",
   "metadata": {},
   "source": [
    "# <span style=\"color:darkblue\"> Additional Resources </span>\n",
    "\n",
    "<font size=\"5\"> \n",
    "\n",
    "Check out additional examples at:\n",
    "\n",
    "- https://allendowney.github.io/ElementsOfDataScience/01_variables.html\n",
    "- https://allendowney.github.io/ElementsOfDataScience/03_arrays.html\n",
    "\n"
   ]
  },
  {
   "attachments": {},
   "cell_type": "markdown",
   "metadata": {},
   "source": [
    "# <span style=\"color:darkblue\"> (Optional) Common Pitfalls </span>\n",
    "\n",
    "<font size=\"5\"> \n",
    "\n",
    "It's very common to enter a command incorrectly\n",
    "- There will be an arrow pointing to the problematic line\n",
    "- Focus on the message following \"NameError\""
   ]
  },
  {
   "attachments": {},
   "cell_type": "markdown",
   "metadata": {},
   "source": [
    "<font size=\"5\"> \n",
    "\n",
    "Pro Tip:\n",
    "- Type in google the message for \"NameError\" plus the word Python\n",
    "- Somebody may have a solution/explanation!"
   ]
  },
  {
   "attachments": {},
   "cell_type": "markdown",
   "metadata": {},
   "source": [
    "<font size=\"5\"> \n",
    "\n",
    "Example 1: Not including quotations"
   ]
  },
  {
   "cell_type": "code",
   "execution_count": 34,
   "metadata": {},
   "outputs": [],
   "source": [
    "hello = 'hello'"
   ]
  },
  {
   "cell_type": "code",
   "execution_count": 35,
   "metadata": {},
   "outputs": [
    {
     "ename": "NameError",
     "evalue": "name 'hellos' is not defined",
     "output_type": "error",
     "traceback": [
      "\u001b[0;31m---------------------------------------------------------------------------\u001b[0m",
      "\u001b[0;31mNameError\u001b[0m                                 Traceback (most recent call last)",
      "\u001b[0;32m/var/folders/1b/jzb9ndz97b5260fzr9d8kzyh5f7xd6/T/ipykernel_34142/2227594636.py\u001b[0m in \u001b[0;36m<module>\u001b[0;34m\u001b[0m\n\u001b[1;32m      1\u001b[0m \u001b[0;31m# When you don't include quotation marks,\u001b[0m\u001b[0;34m\u001b[0m\u001b[0;34m\u001b[0m\u001b[0m\n\u001b[1;32m      2\u001b[0m \u001b[0;31m# Python will try to search for a variable called Hello\u001b[0m\u001b[0;34m\u001b[0m\u001b[0;34m\u001b[0m\u001b[0m\n\u001b[0;32m----> 3\u001b[0;31m \u001b[0mtype\u001b[0m\u001b[0;34m(\u001b[0m\u001b[0mhellos\u001b[0m\u001b[0;34m)\u001b[0m\u001b[0;34m\u001b[0m\u001b[0;34m\u001b[0m\u001b[0m\n\u001b[0m",
      "\u001b[0;31mNameError\u001b[0m: name 'hellos' is not defined"
     ]
    }
   ],
   "source": [
    "# When you don't include quotation marks,\n",
    "# Python will try to search for a variable called Hello\n",
    "type(hellos)"
   ]
  },
  {
   "cell_type": "code",
   "execution_count": null,
   "metadata": {},
   "outputs": [
    {
     "data": {
      "text/plain": [
       "str"
      ]
     },
     "execution_count": 48,
     "metadata": {},
     "output_type": "execute_result"
    }
   ],
   "source": [
    "# This commands works if we already defined a variable, e.g.\n",
    "type(message_hello)"
   ]
  },
  {
   "attachments": {},
   "cell_type": "markdown",
   "metadata": {},
   "source": [
    "<font size=\"5\"> \n",
    "\n",
    "Examples 2: Operations with mixed types don't work"
   ]
  },
  {
   "cell_type": "code",
   "execution_count": null,
   "metadata": {},
   "outputs": [
    {
     "name": "stdout",
     "output_type": "stream",
     "text": [
      "hola3\n"
     ]
    }
   ],
   "source": [
    "# If you add a number and a string you get a concatenated string\n",
    "print(\"hola\" + str(number3))"
   ]
  },
  {
   "cell_type": "code",
   "execution_count": null,
   "metadata": {},
   "outputs": [
    {
     "name": "stdout",
     "output_type": "stream",
     "text": [
      "hola3\n"
     ]
    }
   ],
   "source": [
    "# You can convert an integer to string first\n",
    "print(\"hola\" + str(number3))"
   ]
  },
  {
   "attachments": {},
   "cell_type": "markdown",
   "metadata": {},
   "source": [
    "<font size=\"5\"> \n",
    "\n",
    "Examples 3: Not all mathematical operations on numeric lists work\n",
    "\n",
    "- We need a different object: arrays!\n",
    "- We'll look into this in future classes"
   ]
  },
  {
   "cell_type": "code",
   "execution_count": null,
   "metadata": {},
   "outputs": [
    {
     "data": {
      "text/plain": [
       "[1, 2, 3, 4, 5, 2]"
      ]
     },
     "execution_count": 66,
     "metadata": {},
     "output_type": "execute_result"
    }
   ],
   "source": [
    "list(list_numbers) + [2]"
   ]
  }
 ],
 "metadata": {
  "kernelspec": {
   "display_name": "Python 3",
   "language": "python",
   "name": "python3"
  },
  "language_info": {
   "codemirror_mode": {
    "name": "ipython",
    "version": 3
   },
   "file_extension": ".py",
   "mimetype": "text/x-python",
   "name": "python",
   "nbconvert_exporter": "python",
   "pygments_lexer": "ipython3",
   "version": "3.8.8"
  },
  "orig_nbformat": 4
 },
 "nbformat": 4,
 "nbformat_minor": 2
}
