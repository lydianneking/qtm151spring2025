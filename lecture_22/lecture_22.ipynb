{
 "cells": [
  {
   "attachments": {},
   "cell_type": "markdown",
   "metadata": {},
   "source": [
    "# <span style=\"color:darkblue\"> Lecture 22 - Advanced Plots 2  </span>\n",
    "\n",
    "<font size = \"5\">\n",
    "\n",
    "In previous lectures we ...\n",
    "\n",
    "- Worked with the \"subplots()\" environment which expands <br>\n",
    "  the functionality of \"scatter\",\"hist\",\"line\" and similar <br>\n",
    "  syntax to ```plt.```\n",
    "- Explored options for axis labelling \n",
    "\n",
    "In this lecture we will focus on the standard \"plt\" usage and ...\n",
    "\n",
    "- Export graphs to files\n",
    "- Plot grouped statistics\n",
    "- Change the style theme\n",
    "- Everything today is also compatible with ```.subplots()```\n",
    "\n"
   ]
  },
  {
   "attachments": {},
   "cell_type": "markdown",
   "metadata": {},
   "source": [
    "# <span style=\"color:darkblue\"> I. Setup working environment  </span>"
   ]
  },
  {
   "attachments": {},
   "cell_type": "markdown",
   "metadata": {},
   "source": [
    "<font size = \"5\">\n",
    "\n",
    "Import libraries"
   ]
  },
  {
   "cell_type": "code",
   "execution_count": 1,
   "metadata": {},
   "outputs": [],
   "source": [
    "import matplotlib.pyplot as plt\n",
    "import pandas as pd"
   ]
  },
  {
   "attachments": {},
   "cell_type": "markdown",
   "metadata": {},
   "source": [
    "<font size = \"5\">\n",
    "\n",
    "Import data"
   ]
  },
  {
   "cell_type": "code",
   "execution_count": 2,
   "metadata": {},
   "outputs": [],
   "source": [
    "cars = pd.read_csv(\"data_raw/cars.csv\")\n",
    "\n",
    "# Source: \"https://github.com/selva86/datasets/raw/master/mpg_ggplot2.csv\""
   ]
  },
  {
   "attachments": {},
   "cell_type": "markdown",
   "metadata": {},
   "source": [
    "# <span style=\"color:darkblue\"> II. Exporting and Organization </span>"
   ]
  },
  {
   "attachments": {},
   "cell_type": "markdown",
   "metadata": {},
   "source": [
    "<font size = \"5\">\n",
    "\n",
    "Maintain an organized folder\n",
    "\n",
    "- Differentiate raw/clean data, figures, results, etc...\n",
    "- Essential for data quality\n",
    "- Easier to handle big projects\n",
    "\n",
    "$\\qquad$ <img src=\"figures/folder_structure.png\" alt=\"drawing\" width=\"300\"/>"
   ]
  },
  {
   "attachments": {},
   "cell_type": "markdown",
   "metadata": {},
   "source": [
    "<font size = \"5\">\n",
    "\n",
    "Export to file"
   ]
  },
  {
   "cell_type": "code",
   "execution_count": 3,
   "metadata": {},
   "outputs": [
    {
     "data": {
      "application/vnd.microsoft.datawrangler.viewer.v0+json": {
       "columns": [
        {
         "name": "index",
         "rawType": "int64",
         "type": "integer"
        },
        {
         "name": "Unnamed: 0",
         "rawType": "int64",
         "type": "integer"
        },
        {
         "name": "manufacturer",
         "rawType": "object",
         "type": "string"
        },
        {
         "name": "model",
         "rawType": "object",
         "type": "string"
        },
        {
         "name": "displ",
         "rawType": "float64",
         "type": "float"
        },
        {
         "name": "year",
         "rawType": "int64",
         "type": "integer"
        },
        {
         "name": "cyl",
         "rawType": "int64",
         "type": "integer"
        },
        {
         "name": "trans",
         "rawType": "object",
         "type": "string"
        },
        {
         "name": "drv",
         "rawType": "object",
         "type": "string"
        },
        {
         "name": "cty",
         "rawType": "int64",
         "type": "integer"
        },
        {
         "name": "hwy",
         "rawType": "int64",
         "type": "integer"
        },
        {
         "name": "fl",
         "rawType": "object",
         "type": "string"
        },
        {
         "name": "class",
         "rawType": "object",
         "type": "string"
        }
       ],
       "conversionMethod": "pd.DataFrame",
       "ref": "f654b665-63b2-4b9b-b080-2dca18eff4ad",
       "rows": [
        [
         "0",
         "0",
         "audi",
         "a4",
         "1.8",
         "1999",
         "4",
         "auto(l5)",
         "f",
         "18",
         "29",
         "p",
         "compact"
        ],
        [
         "1",
         "1",
         "audi",
         "a4",
         "1.8",
         "1999",
         "4",
         "manual(m5)",
         "f",
         "21",
         "29",
         "p",
         "compact"
        ],
        [
         "2",
         "2",
         "audi",
         "a4",
         "2.0",
         "2008",
         "4",
         "manual(m6)",
         "f",
         "20",
         "31",
         "p",
         "compact"
        ],
        [
         "3",
         "3",
         "audi",
         "a4",
         "2.0",
         "2008",
         "4",
         "auto(av)",
         "f",
         "21",
         "30",
         "p",
         "compact"
        ],
        [
         "4",
         "4",
         "audi",
         "a4",
         "2.8",
         "1999",
         "6",
         "auto(l5)",
         "f",
         "16",
         "26",
         "p",
         "compact"
        ],
        [
         "5",
         "5",
         "audi",
         "a4",
         "2.8",
         "1999",
         "6",
         "manual(m5)",
         "f",
         "18",
         "26",
         "p",
         "compact"
        ],
        [
         "6",
         "6",
         "audi",
         "a4",
         "3.1",
         "2008",
         "6",
         "auto(av)",
         "f",
         "18",
         "27",
         "p",
         "compact"
        ],
        [
         "7",
         "7",
         "audi",
         "a4 quattro",
         "1.8",
         "1999",
         "4",
         "manual(m5)",
         "4",
         "18",
         "26",
         "p",
         "compact"
        ],
        [
         "8",
         "8",
         "audi",
         "a4 quattro",
         "1.8",
         "1999",
         "4",
         "auto(l5)",
         "4",
         "16",
         "25",
         "p",
         "compact"
        ],
        [
         "9",
         "9",
         "audi",
         "a4 quattro",
         "2.0",
         "2008",
         "4",
         "manual(m6)",
         "4",
         "20",
         "28",
         "p",
         "compact"
        ],
        [
         "10",
         "10",
         "audi",
         "a4 quattro",
         "2.0",
         "2008",
         "4",
         "auto(s6)",
         "4",
         "19",
         "27",
         "p",
         "compact"
        ],
        [
         "11",
         "11",
         "audi",
         "a4 quattro",
         "2.8",
         "1999",
         "6",
         "auto(l5)",
         "4",
         "15",
         "25",
         "p",
         "compact"
        ],
        [
         "12",
         "12",
         "audi",
         "a4 quattro",
         "2.8",
         "1999",
         "6",
         "manual(m5)",
         "4",
         "17",
         "25",
         "p",
         "compact"
        ],
        [
         "13",
         "13",
         "audi",
         "a4 quattro",
         "3.1",
         "2008",
         "6",
         "auto(s6)",
         "4",
         "17",
         "25",
         "p",
         "compact"
        ],
        [
         "14",
         "14",
         "audi",
         "a4 quattro",
         "3.1",
         "2008",
         "6",
         "manual(m6)",
         "4",
         "15",
         "25",
         "p",
         "compact"
        ],
        [
         "15",
         "15",
         "audi",
         "a6 quattro",
         "2.8",
         "1999",
         "6",
         "auto(l5)",
         "4",
         "15",
         "24",
         "p",
         "midsize"
        ],
        [
         "16",
         "16",
         "audi",
         "a6 quattro",
         "3.1",
         "2008",
         "6",
         "auto(s6)",
         "4",
         "17",
         "25",
         "p",
         "midsize"
        ],
        [
         "17",
         "17",
         "audi",
         "a6 quattro",
         "4.2",
         "2008",
         "8",
         "auto(s6)",
         "4",
         "16",
         "23",
         "p",
         "midsize"
        ],
        [
         "18",
         "18",
         "chevrolet",
         "c1500 suburban 2wd",
         "5.3",
         "2008",
         "8",
         "auto(l4)",
         "r",
         "14",
         "20",
         "r",
         "suv"
        ],
        [
         "19",
         "19",
         "chevrolet",
         "c1500 suburban 2wd",
         "5.3",
         "2008",
         "8",
         "auto(l4)",
         "r",
         "11",
         "15",
         "e",
         "suv"
        ],
        [
         "20",
         "20",
         "chevrolet",
         "c1500 suburban 2wd",
         "5.3",
         "2008",
         "8",
         "auto(l4)",
         "r",
         "14",
         "20",
         "r",
         "suv"
        ],
        [
         "21",
         "21",
         "chevrolet",
         "c1500 suburban 2wd",
         "5.7",
         "1999",
         "8",
         "auto(l4)",
         "r",
         "13",
         "17",
         "r",
         "suv"
        ],
        [
         "22",
         "22",
         "chevrolet",
         "c1500 suburban 2wd",
         "6.0",
         "2008",
         "8",
         "auto(l4)",
         "r",
         "12",
         "17",
         "r",
         "suv"
        ],
        [
         "23",
         "23",
         "chevrolet",
         "corvette",
         "5.7",
         "1999",
         "8",
         "manual(m6)",
         "r",
         "16",
         "26",
         "p",
         "2seater"
        ],
        [
         "24",
         "24",
         "chevrolet",
         "corvette",
         "5.7",
         "1999",
         "8",
         "auto(l4)",
         "r",
         "15",
         "23",
         "p",
         "2seater"
        ],
        [
         "25",
         "25",
         "chevrolet",
         "corvette",
         "6.2",
         "2008",
         "8",
         "manual(m6)",
         "r",
         "16",
         "26",
         "p",
         "2seater"
        ],
        [
         "26",
         "26",
         "chevrolet",
         "corvette",
         "6.2",
         "2008",
         "8",
         "auto(s6)",
         "r",
         "15",
         "25",
         "p",
         "2seater"
        ],
        [
         "27",
         "27",
         "chevrolet",
         "corvette",
         "7.0",
         "2008",
         "8",
         "manual(m6)",
         "r",
         "15",
         "24",
         "p",
         "2seater"
        ],
        [
         "28",
         "28",
         "chevrolet",
         "k1500 tahoe 4wd",
         "5.3",
         "2008",
         "8",
         "auto(l4)",
         "4",
         "14",
         "19",
         "r",
         "suv"
        ],
        [
         "29",
         "29",
         "chevrolet",
         "k1500 tahoe 4wd",
         "5.3",
         "2008",
         "8",
         "auto(l4)",
         "4",
         "11",
         "14",
         "e",
         "suv"
        ],
        [
         "30",
         "30",
         "chevrolet",
         "k1500 tahoe 4wd",
         "5.7",
         "1999",
         "8",
         "auto(l4)",
         "4",
         "11",
         "15",
         "r",
         "suv"
        ],
        [
         "31",
         "31",
         "chevrolet",
         "k1500 tahoe 4wd",
         "6.5",
         "1999",
         "8",
         "auto(l4)",
         "4",
         "14",
         "17",
         "d",
         "suv"
        ],
        [
         "32",
         "32",
         "chevrolet",
         "malibu",
         "2.4",
         "1999",
         "4",
         "auto(l4)",
         "f",
         "19",
         "27",
         "r",
         "midsize"
        ],
        [
         "33",
         "33",
         "chevrolet",
         "malibu",
         "2.4",
         "2008",
         "4",
         "auto(l4)",
         "f",
         "22",
         "30",
         "r",
         "midsize"
        ],
        [
         "34",
         "34",
         "chevrolet",
         "malibu",
         "3.1",
         "1999",
         "6",
         "auto(l4)",
         "f",
         "18",
         "26",
         "r",
         "midsize"
        ],
        [
         "35",
         "35",
         "chevrolet",
         "malibu",
         "3.5",
         "2008",
         "6",
         "auto(l4)",
         "f",
         "18",
         "29",
         "r",
         "midsize"
        ],
        [
         "36",
         "36",
         "chevrolet",
         "malibu",
         "3.6",
         "2008",
         "6",
         "auto(s6)",
         "f",
         "17",
         "26",
         "r",
         "midsize"
        ],
        [
         "37",
         "37",
         "dodge",
         "caravan 2wd",
         "2.4",
         "1999",
         "4",
         "auto(l3)",
         "f",
         "18",
         "24",
         "r",
         "minivan"
        ],
        [
         "38",
         "38",
         "dodge",
         "caravan 2wd",
         "3.0",
         "1999",
         "6",
         "auto(l4)",
         "f",
         "17",
         "24",
         "r",
         "minivan"
        ],
        [
         "39",
         "39",
         "dodge",
         "caravan 2wd",
         "3.3",
         "1999",
         "6",
         "auto(l4)",
         "f",
         "16",
         "22",
         "r",
         "minivan"
        ],
        [
         "40",
         "40",
         "dodge",
         "caravan 2wd",
         "3.3",
         "1999",
         "6",
         "auto(l4)",
         "f",
         "16",
         "22",
         "r",
         "minivan"
        ],
        [
         "41",
         "41",
         "dodge",
         "caravan 2wd",
         "3.3",
         "2008",
         "6",
         "auto(l4)",
         "f",
         "17",
         "24",
         "r",
         "minivan"
        ],
        [
         "42",
         "42",
         "dodge",
         "caravan 2wd",
         "3.3",
         "2008",
         "6",
         "auto(l4)",
         "f",
         "17",
         "24",
         "r",
         "minivan"
        ],
        [
         "43",
         "43",
         "dodge",
         "caravan 2wd",
         "3.3",
         "2008",
         "6",
         "auto(l4)",
         "f",
         "11",
         "17",
         "e",
         "minivan"
        ],
        [
         "44",
         "44",
         "dodge",
         "caravan 2wd",
         "3.8",
         "1999",
         "6",
         "auto(l4)",
         "f",
         "15",
         "22",
         "r",
         "minivan"
        ],
        [
         "45",
         "45",
         "dodge",
         "caravan 2wd",
         "3.8",
         "1999",
         "6",
         "auto(l4)",
         "f",
         "15",
         "21",
         "r",
         "minivan"
        ],
        [
         "46",
         "46",
         "dodge",
         "caravan 2wd",
         "3.8",
         "2008",
         "6",
         "auto(l6)",
         "f",
         "16",
         "23",
         "r",
         "minivan"
        ],
        [
         "47",
         "47",
         "dodge",
         "caravan 2wd",
         "4.0",
         "2008",
         "6",
         "auto(l6)",
         "f",
         "16",
         "23",
         "r",
         "minivan"
        ],
        [
         "48",
         "48",
         "dodge",
         "dakota pickup 4wd",
         "3.7",
         "2008",
         "6",
         "manual(m6)",
         "4",
         "15",
         "19",
         "r",
         "pickup"
        ],
        [
         "49",
         "49",
         "dodge",
         "dakota pickup 4wd",
         "3.7",
         "2008",
         "6",
         "auto(l4)",
         "4",
         "14",
         "18",
         "r",
         "pickup"
        ]
       ],
       "shape": {
        "columns": 12,
        "rows": 234
       }
      },
      "text/html": [
       "<div>\n",
       "<style scoped>\n",
       "    .dataframe tbody tr th:only-of-type {\n",
       "        vertical-align: middle;\n",
       "    }\n",
       "\n",
       "    .dataframe tbody tr th {\n",
       "        vertical-align: top;\n",
       "    }\n",
       "\n",
       "    .dataframe thead th {\n",
       "        text-align: right;\n",
       "    }\n",
       "</style>\n",
       "<table border=\"1\" class=\"dataframe\">\n",
       "  <thead>\n",
       "    <tr style=\"text-align: right;\">\n",
       "      <th></th>\n",
       "      <th>Unnamed: 0</th>\n",
       "      <th>manufacturer</th>\n",
       "      <th>model</th>\n",
       "      <th>displ</th>\n",
       "      <th>year</th>\n",
       "      <th>cyl</th>\n",
       "      <th>trans</th>\n",
       "      <th>drv</th>\n",
       "      <th>cty</th>\n",
       "      <th>hwy</th>\n",
       "      <th>fl</th>\n",
       "      <th>class</th>\n",
       "    </tr>\n",
       "  </thead>\n",
       "  <tbody>\n",
       "    <tr>\n",
       "      <th>0</th>\n",
       "      <td>0</td>\n",
       "      <td>audi</td>\n",
       "      <td>a4</td>\n",
       "      <td>1.8</td>\n",
       "      <td>1999</td>\n",
       "      <td>4</td>\n",
       "      <td>auto(l5)</td>\n",
       "      <td>f</td>\n",
       "      <td>18</td>\n",
       "      <td>29</td>\n",
       "      <td>p</td>\n",
       "      <td>compact</td>\n",
       "    </tr>\n",
       "    <tr>\n",
       "      <th>1</th>\n",
       "      <td>1</td>\n",
       "      <td>audi</td>\n",
       "      <td>a4</td>\n",
       "      <td>1.8</td>\n",
       "      <td>1999</td>\n",
       "      <td>4</td>\n",
       "      <td>manual(m5)</td>\n",
       "      <td>f</td>\n",
       "      <td>21</td>\n",
       "      <td>29</td>\n",
       "      <td>p</td>\n",
       "      <td>compact</td>\n",
       "    </tr>\n",
       "    <tr>\n",
       "      <th>2</th>\n",
       "      <td>2</td>\n",
       "      <td>audi</td>\n",
       "      <td>a4</td>\n",
       "      <td>2.0</td>\n",
       "      <td>2008</td>\n",
       "      <td>4</td>\n",
       "      <td>manual(m6)</td>\n",
       "      <td>f</td>\n",
       "      <td>20</td>\n",
       "      <td>31</td>\n",
       "      <td>p</td>\n",
       "      <td>compact</td>\n",
       "    </tr>\n",
       "    <tr>\n",
       "      <th>3</th>\n",
       "      <td>3</td>\n",
       "      <td>audi</td>\n",
       "      <td>a4</td>\n",
       "      <td>2.0</td>\n",
       "      <td>2008</td>\n",
       "      <td>4</td>\n",
       "      <td>auto(av)</td>\n",
       "      <td>f</td>\n",
       "      <td>21</td>\n",
       "      <td>30</td>\n",
       "      <td>p</td>\n",
       "      <td>compact</td>\n",
       "    </tr>\n",
       "    <tr>\n",
       "      <th>4</th>\n",
       "      <td>4</td>\n",
       "      <td>audi</td>\n",
       "      <td>a4</td>\n",
       "      <td>2.8</td>\n",
       "      <td>1999</td>\n",
       "      <td>6</td>\n",
       "      <td>auto(l5)</td>\n",
       "      <td>f</td>\n",
       "      <td>16</td>\n",
       "      <td>26</td>\n",
       "      <td>p</td>\n",
       "      <td>compact</td>\n",
       "    </tr>\n",
       "    <tr>\n",
       "      <th>...</th>\n",
       "      <td>...</td>\n",
       "      <td>...</td>\n",
       "      <td>...</td>\n",
       "      <td>...</td>\n",
       "      <td>...</td>\n",
       "      <td>...</td>\n",
       "      <td>...</td>\n",
       "      <td>...</td>\n",
       "      <td>...</td>\n",
       "      <td>...</td>\n",
       "      <td>...</td>\n",
       "      <td>...</td>\n",
       "    </tr>\n",
       "    <tr>\n",
       "      <th>229</th>\n",
       "      <td>229</td>\n",
       "      <td>volkswagen</td>\n",
       "      <td>passat</td>\n",
       "      <td>2.0</td>\n",
       "      <td>2008</td>\n",
       "      <td>4</td>\n",
       "      <td>auto(s6)</td>\n",
       "      <td>f</td>\n",
       "      <td>19</td>\n",
       "      <td>28</td>\n",
       "      <td>p</td>\n",
       "      <td>midsize</td>\n",
       "    </tr>\n",
       "    <tr>\n",
       "      <th>230</th>\n",
       "      <td>230</td>\n",
       "      <td>volkswagen</td>\n",
       "      <td>passat</td>\n",
       "      <td>2.0</td>\n",
       "      <td>2008</td>\n",
       "      <td>4</td>\n",
       "      <td>manual(m6)</td>\n",
       "      <td>f</td>\n",
       "      <td>21</td>\n",
       "      <td>29</td>\n",
       "      <td>p</td>\n",
       "      <td>midsize</td>\n",
       "    </tr>\n",
       "    <tr>\n",
       "      <th>231</th>\n",
       "      <td>231</td>\n",
       "      <td>volkswagen</td>\n",
       "      <td>passat</td>\n",
       "      <td>2.8</td>\n",
       "      <td>1999</td>\n",
       "      <td>6</td>\n",
       "      <td>auto(l5)</td>\n",
       "      <td>f</td>\n",
       "      <td>16</td>\n",
       "      <td>26</td>\n",
       "      <td>p</td>\n",
       "      <td>midsize</td>\n",
       "    </tr>\n",
       "    <tr>\n",
       "      <th>232</th>\n",
       "      <td>232</td>\n",
       "      <td>volkswagen</td>\n",
       "      <td>passat</td>\n",
       "      <td>2.8</td>\n",
       "      <td>1999</td>\n",
       "      <td>6</td>\n",
       "      <td>manual(m5)</td>\n",
       "      <td>f</td>\n",
       "      <td>18</td>\n",
       "      <td>26</td>\n",
       "      <td>p</td>\n",
       "      <td>midsize</td>\n",
       "    </tr>\n",
       "    <tr>\n",
       "      <th>233</th>\n",
       "      <td>233</td>\n",
       "      <td>volkswagen</td>\n",
       "      <td>passat</td>\n",
       "      <td>3.6</td>\n",
       "      <td>2008</td>\n",
       "      <td>6</td>\n",
       "      <td>auto(s6)</td>\n",
       "      <td>f</td>\n",
       "      <td>17</td>\n",
       "      <td>26</td>\n",
       "      <td>p</td>\n",
       "      <td>midsize</td>\n",
       "    </tr>\n",
       "  </tbody>\n",
       "</table>\n",
       "<p>234 rows × 12 columns</p>\n",
       "</div>"
      ],
      "text/plain": [
       "     Unnamed: 0 manufacturer   model  displ  year  cyl       trans drv  cty  \\\n",
       "0             0         audi      a4    1.8  1999    4    auto(l5)   f   18   \n",
       "1             1         audi      a4    1.8  1999    4  manual(m5)   f   21   \n",
       "2             2         audi      a4    2.0  2008    4  manual(m6)   f   20   \n",
       "3             3         audi      a4    2.0  2008    4    auto(av)   f   21   \n",
       "4             4         audi      a4    2.8  1999    6    auto(l5)   f   16   \n",
       "..          ...          ...     ...    ...   ...  ...         ...  ..  ...   \n",
       "229         229   volkswagen  passat    2.0  2008    4    auto(s6)   f   19   \n",
       "230         230   volkswagen  passat    2.0  2008    4  manual(m6)   f   21   \n",
       "231         231   volkswagen  passat    2.8  1999    6    auto(l5)   f   16   \n",
       "232         232   volkswagen  passat    2.8  1999    6  manual(m5)   f   18   \n",
       "233         233   volkswagen  passat    3.6  2008    6    auto(s6)   f   17   \n",
       "\n",
       "     hwy fl    class  \n",
       "0     29  p  compact  \n",
       "1     29  p  compact  \n",
       "2     31  p  compact  \n",
       "3     30  p  compact  \n",
       "4     26  p  compact  \n",
       "..   ... ..      ...  \n",
       "229   28  p  midsize  \n",
       "230   29  p  midsize  \n",
       "231   26  p  midsize  \n",
       "232   26  p  midsize  \n",
       "233   26  p  midsize  \n",
       "\n",
       "[234 rows x 12 columns]"
      ]
     },
     "execution_count": 3,
     "metadata": {},
     "output_type": "execute_result"
    }
   ],
   "source": [
    "cars"
   ]
  },
  {
   "cell_type": "code",
   "execution_count": 6,
   "metadata": {},
   "outputs": [
    {
     "data": {
      "image/png": "[encoded data removed]",
      "text/plain": [
       "<Figure size 432x288 with 1 Axes>"
      ]
     },
     "metadata": {
      "needs_background": "light"
     },
     "output_type": "display_data"
    }
   ],
   "source": [
    "plt.scatter(x = cars[\"hwy\"],y = cars[\"cty\"])\n",
    "plt.xlabel(\"Miles per gallon (Highway)\")\n",
    "plt.ylabel(\"Miles per gallon (City)\")\n",
    "plt.title(\"Fuel efficiency in highways vs the city\")\n",
    "\n",
    "# Store in different formats - saving the figure\n",
    "plt.savefig(\"results/scatter_cty_hwy.png\")\n",
    "plt.savefig(\"results/scatter_cty_hwy.jpg\")\n",
    "plt.savefig(\"results/scatter_cty_hwy_4_16_25.jpg\")"
   ]
  },
  {
   "attachments": {},
   "cell_type": "markdown",
   "metadata": {},
   "source": [
    "<font size = \"5\">\n",
    "\n",
    "Pro Tips:\n",
    "\n",
    "- **CHOOSE** self-explanatory names!\n",
    "- **INCLUDE** time stamps or other systematic notation,\n",
    "  <br> e.g. \"2023-04-26-scatter_cars.png\" <br>\n",
    "- **AVOID** ambiguous notation like \"scatter_cars_v4.png\" \n",
    "- If working on a report, add figure numbers to file\n"
   ]
  },
  {
   "attachments": {},
   "cell_type": "markdown",
   "metadata": {},
   "source": [
    "<font size = \"5\">\n",
    "\n",
    "Try it yourself!\n",
    "\n",
    "- Store the above figure, with today's date <br>\n",
    "in the file name as a \"jpg\" file\n",
    "- Check that the file appears in your folder"
   ]
  },
  {
   "cell_type": "code",
   "execution_count": null,
   "metadata": {},
   "outputs": [
    {
     "data": {
      "text/plain": [
       "<Figure size 432x288 with 0 Axes>"
      ]
     },
     "metadata": {},
     "output_type": "display_data"
    }
   ],
   "source": [
    "# Write your own code\n",
    "\n",
    "#see above code chunk\n"
   ]
  },
  {
   "attachments": {},
   "cell_type": "markdown",
   "metadata": {},
   "source": [
    "# <span style=\"color:darkblue\"> III. Plotting Grouped Data  </span>"
   ]
  },
  {
   "attachments": {},
   "cell_type": "markdown",
   "metadata": {},
   "source": [
    "<font size = \"5\">\n",
    "\n",
    "Adding group indexing"
   ]
  },
  {
   "cell_type": "code",
   "execution_count": 7,
   "metadata": {},
   "outputs": [
    {
     "data": {
      "application/vnd.microsoft.datawrangler.viewer.v0+json": {
       "columns": [
        {
         "name": "index",
         "rawType": "int64",
         "type": "integer"
        },
        {
         "name": "Unnamed: 0",
         "rawType": "int64",
         "type": "integer"
        },
        {
         "name": "manufacturer",
         "rawType": "object",
         "type": "string"
        },
        {
         "name": "model",
         "rawType": "object",
         "type": "string"
        },
        {
         "name": "displ",
         "rawType": "float64",
         "type": "float"
        },
        {
         "name": "year",
         "rawType": "int64",
         "type": "integer"
        },
        {
         "name": "cyl",
         "rawType": "int64",
         "type": "integer"
        },
        {
         "name": "trans",
         "rawType": "object",
         "type": "string"
        },
        {
         "name": "drv",
         "rawType": "object",
         "type": "string"
        },
        {
         "name": "cty",
         "rawType": "int64",
         "type": "integer"
        },
        {
         "name": "hwy",
         "rawType": "int64",
         "type": "integer"
        },
        {
         "name": "fl",
         "rawType": "object",
         "type": "string"
        },
        {
         "name": "class",
         "rawType": "object",
         "type": "string"
        }
       ],
       "conversionMethod": "pd.DataFrame",
       "ref": "1ec1f700-bb3a-48e4-830e-4091ea7631c5",
       "rows": [
        [
         "0",
         "0",
         "audi",
         "a4",
         "1.8",
         "1999",
         "4",
         "auto(l5)",
         "f",
         "18",
         "29",
         "p",
         "compact"
        ],
        [
         "1",
         "1",
         "audi",
         "a4",
         "1.8",
         "1999",
         "4",
         "manual(m5)",
         "f",
         "21",
         "29",
         "p",
         "compact"
        ],
        [
         "2",
         "2",
         "audi",
         "a4",
         "2.0",
         "2008",
         "4",
         "manual(m6)",
         "f",
         "20",
         "31",
         "p",
         "compact"
        ],
        [
         "3",
         "3",
         "audi",
         "a4",
         "2.0",
         "2008",
         "4",
         "auto(av)",
         "f",
         "21",
         "30",
         "p",
         "compact"
        ],
        [
         "4",
         "4",
         "audi",
         "a4",
         "2.8",
         "1999",
         "6",
         "auto(l5)",
         "f",
         "16",
         "26",
         "p",
         "compact"
        ],
        [
         "5",
         "5",
         "audi",
         "a4",
         "2.8",
         "1999",
         "6",
         "manual(m5)",
         "f",
         "18",
         "26",
         "p",
         "compact"
        ],
        [
         "6",
         "6",
         "audi",
         "a4",
         "3.1",
         "2008",
         "6",
         "auto(av)",
         "f",
         "18",
         "27",
         "p",
         "compact"
        ],
        [
         "7",
         "7",
         "audi",
         "a4 quattro",
         "1.8",
         "1999",
         "4",
         "manual(m5)",
         "4",
         "18",
         "26",
         "p",
         "compact"
        ],
        [
         "8",
         "8",
         "audi",
         "a4 quattro",
         "1.8",
         "1999",
         "4",
         "auto(l5)",
         "4",
         "16",
         "25",
         "p",
         "compact"
        ],
        [
         "9",
         "9",
         "audi",
         "a4 quattro",
         "2.0",
         "2008",
         "4",
         "manual(m6)",
         "4",
         "20",
         "28",
         "p",
         "compact"
        ],
        [
         "10",
         "10",
         "audi",
         "a4 quattro",
         "2.0",
         "2008",
         "4",
         "auto(s6)",
         "4",
         "19",
         "27",
         "p",
         "compact"
        ],
        [
         "11",
         "11",
         "audi",
         "a4 quattro",
         "2.8",
         "1999",
         "6",
         "auto(l5)",
         "4",
         "15",
         "25",
         "p",
         "compact"
        ],
        [
         "12",
         "12",
         "audi",
         "a4 quattro",
         "2.8",
         "1999",
         "6",
         "manual(m5)",
         "4",
         "17",
         "25",
         "p",
         "compact"
        ],
        [
         "13",
         "13",
         "audi",
         "a4 quattro",
         "3.1",
         "2008",
         "6",
         "auto(s6)",
         "4",
         "17",
         "25",
         "p",
         "compact"
        ],
        [
         "14",
         "14",
         "audi",
         "a4 quattro",
         "3.1",
         "2008",
         "6",
         "manual(m6)",
         "4",
         "15",
         "25",
         "p",
         "compact"
        ],
        [
         "15",
         "15",
         "audi",
         "a6 quattro",
         "2.8",
         "1999",
         "6",
         "auto(l5)",
         "4",
         "15",
         "24",
         "p",
         "midsize"
        ],
        [
         "16",
         "16",
         "audi",
         "a6 quattro",
         "3.1",
         "2008",
         "6",
         "auto(s6)",
         "4",
         "17",
         "25",
         "p",
         "midsize"
        ],
        [
         "17",
         "17",
         "audi",
         "a6 quattro",
         "4.2",
         "2008",
         "8",
         "auto(s6)",
         "4",
         "16",
         "23",
         "p",
         "midsize"
        ],
        [
         "18",
         "18",
         "chevrolet",
         "c1500 suburban 2wd",
         "5.3",
         "2008",
         "8",
         "auto(l4)",
         "r",
         "14",
         "20",
         "r",
         "suv"
        ],
        [
         "19",
         "19",
         "chevrolet",
         "c1500 suburban 2wd",
         "5.3",
         "2008",
         "8",
         "auto(l4)",
         "r",
         "11",
         "15",
         "e",
         "suv"
        ],
        [
         "20",
         "20",
         "chevrolet",
         "c1500 suburban 2wd",
         "5.3",
         "2008",
         "8",
         "auto(l4)",
         "r",
         "14",
         "20",
         "r",
         "suv"
        ],
        [
         "21",
         "21",
         "chevrolet",
         "c1500 suburban 2wd",
         "5.7",
         "1999",
         "8",
         "auto(l4)",
         "r",
         "13",
         "17",
         "r",
         "suv"
        ],
        [
         "22",
         "22",
         "chevrolet",
         "c1500 suburban 2wd",
         "6.0",
         "2008",
         "8",
         "auto(l4)",
         "r",
         "12",
         "17",
         "r",
         "suv"
        ],
        [
         "23",
         "23",
         "chevrolet",
         "corvette",
         "5.7",
         "1999",
         "8",
         "manual(m6)",
         "r",
         "16",
         "26",
         "p",
         "2seater"
        ],
        [
         "24",
         "24",
         "chevrolet",
         "corvette",
         "5.7",
         "1999",
         "8",
         "auto(l4)",
         "r",
         "15",
         "23",
         "p",
         "2seater"
        ],
        [
         "25",
         "25",
         "chevrolet",
         "corvette",
         "6.2",
         "2008",
         "8",
         "manual(m6)",
         "r",
         "16",
         "26",
         "p",
         "2seater"
        ],
        [
         "26",
         "26",
         "chevrolet",
         "corvette",
         "6.2",
         "2008",
         "8",
         "auto(s6)",
         "r",
         "15",
         "25",
         "p",
         "2seater"
        ],
        [
         "27",
         "27",
         "chevrolet",
         "corvette",
         "7.0",
         "2008",
         "8",
         "manual(m6)",
         "r",
         "15",
         "24",
         "p",
         "2seater"
        ],
        [
         "28",
         "28",
         "chevrolet",
         "k1500 tahoe 4wd",
         "5.3",
         "2008",
         "8",
         "auto(l4)",
         "4",
         "14",
         "19",
         "r",
         "suv"
        ],
        [
         "29",
         "29",
         "chevrolet",
         "k1500 tahoe 4wd",
         "5.3",
         "2008",
         "8",
         "auto(l4)",
         "4",
         "11",
         "14",
         "e",
         "suv"
        ],
        [
         "30",
         "30",
         "chevrolet",
         "k1500 tahoe 4wd",
         "5.7",
         "1999",
         "8",
         "auto(l4)",
         "4",
         "11",
         "15",
         "r",
         "suv"
        ],
        [
         "31",
         "31",
         "chevrolet",
         "k1500 tahoe 4wd",
         "6.5",
         "1999",
         "8",
         "auto(l4)",
         "4",
         "14",
         "17",
         "d",
         "suv"
        ],
        [
         "32",
         "32",
         "chevrolet",
         "malibu",
         "2.4",
         "1999",
         "4",
         "auto(l4)",
         "f",
         "19",
         "27",
         "r",
         "midsize"
        ],
        [
         "33",
         "33",
         "chevrolet",
         "malibu",
         "2.4",
         "2008",
         "4",
         "auto(l4)",
         "f",
         "22",
         "30",
         "r",
         "midsize"
        ],
        [
         "34",
         "34",
         "chevrolet",
         "malibu",
         "3.1",
         "1999",
         "6",
         "auto(l4)",
         "f",
         "18",
         "26",
         "r",
         "midsize"
        ],
        [
         "35",
         "35",
         "chevrolet",
         "malibu",
         "3.5",
         "2008",
         "6",
         "auto(l4)",
         "f",
         "18",
         "29",
         "r",
         "midsize"
        ],
        [
         "36",
         "36",
         "chevrolet",
         "malibu",
         "3.6",
         "2008",
         "6",
         "auto(s6)",
         "f",
         "17",
         "26",
         "r",
         "midsize"
        ],
        [
         "37",
         "37",
         "dodge",
         "caravan 2wd",
         "2.4",
         "1999",
         "4",
         "auto(l3)",
         "f",
         "18",
         "24",
         "r",
         "minivan"
        ],
        [
         "38",
         "38",
         "dodge",
         "caravan 2wd",
         "3.0",
         "1999",
         "6",
         "auto(l4)",
         "f",
         "17",
         "24",
         "r",
         "minivan"
        ],
        [
         "39",
         "39",
         "dodge",
         "caravan 2wd",
         "3.3",
         "1999",
         "6",
         "auto(l4)",
         "f",
         "16",
         "22",
         "r",
         "minivan"
        ],
        [
         "40",
         "40",
         "dodge",
         "caravan 2wd",
         "3.3",
         "1999",
         "6",
         "auto(l4)",
         "f",
         "16",
         "22",
         "r",
         "minivan"
        ],
        [
         "41",
         "41",
         "dodge",
         "caravan 2wd",
         "3.3",
         "2008",
         "6",
         "auto(l4)",
         "f",
         "17",
         "24",
         "r",
         "minivan"
        ],
        [
         "42",
         "42",
         "dodge",
         "caravan 2wd",
         "3.3",
         "2008",
         "6",
         "auto(l4)",
         "f",
         "17",
         "24",
         "r",
         "minivan"
        ],
        [
         "43",
         "43",
         "dodge",
         "caravan 2wd",
         "3.3",
         "2008",
         "6",
         "auto(l4)",
         "f",
         "11",
         "17",
         "e",
         "minivan"
        ],
        [
         "44",
         "44",
         "dodge",
         "caravan 2wd",
         "3.8",
         "1999",
         "6",
         "auto(l4)",
         "f",
         "15",
         "22",
         "r",
         "minivan"
        ],
        [
         "45",
         "45",
         "dodge",
         "caravan 2wd",
         "3.8",
         "1999",
         "6",
         "auto(l4)",
         "f",
         "15",
         "21",
         "r",
         "minivan"
        ],
        [
         "46",
         "46",
         "dodge",
         "caravan 2wd",
         "3.8",
         "2008",
         "6",
         "auto(l6)",
         "f",
         "16",
         "23",
         "r",
         "minivan"
        ],
        [
         "47",
         "47",
         "dodge",
         "caravan 2wd",
         "4.0",
         "2008",
         "6",
         "auto(l6)",
         "f",
         "16",
         "23",
         "r",
         "minivan"
        ],
        [
         "48",
         "48",
         "dodge",
         "dakota pickup 4wd",
         "3.7",
         "2008",
         "6",
         "manual(m6)",
         "4",
         "15",
         "19",
         "r",
         "pickup"
        ],
        [
         "49",
         "49",
         "dodge",
         "dakota pickup 4wd",
         "3.7",
         "2008",
         "6",
         "auto(l4)",
         "4",
         "14",
         "18",
         "r",
         "pickup"
        ]
       ],
       "shape": {
        "columns": 12,
        "rows": 234
       }
      },
      "text/html": [
       "<div>\n",
       "<style scoped>\n",
       "    .dataframe tbody tr th:only-of-type {\n",
       "        vertical-align: middle;\n",
       "    }\n",
       "\n",
       "    .dataframe tbody tr th {\n",
       "        vertical-align: top;\n",
       "    }\n",
       "\n",
       "    .dataframe thead th {\n",
       "        text-align: right;\n",
       "    }\n",
       "</style>\n",
       "<table border=\"1\" class=\"dataframe\">\n",
       "  <thead>\n",
       "    <tr style=\"text-align: right;\">\n",
       "      <th></th>\n",
       "      <th>Unnamed: 0</th>\n",
       "      <th>manufacturer</th>\n",
       "      <th>model</th>\n",
       "      <th>displ</th>\n",
       "      <th>year</th>\n",
       "      <th>cyl</th>\n",
       "      <th>trans</th>\n",
       "      <th>drv</th>\n",
       "      <th>cty</th>\n",
       "      <th>hwy</th>\n",
       "      <th>fl</th>\n",
       "      <th>class</th>\n",
       "    </tr>\n",
       "  </thead>\n",
       "  <tbody>\n",
       "    <tr>\n",
       "      <th>0</th>\n",
       "      <td>0</td>\n",
       "      <td>audi</td>\n",
       "      <td>a4</td>\n",
       "      <td>1.8</td>\n",
       "      <td>1999</td>\n",
       "      <td>4</td>\n",
       "      <td>auto(l5)</td>\n",
       "      <td>f</td>\n",
       "      <td>18</td>\n",
       "      <td>29</td>\n",
       "      <td>p</td>\n",
       "      <td>compact</td>\n",
       "    </tr>\n",
       "    <tr>\n",
       "      <th>1</th>\n",
       "      <td>1</td>\n",
       "      <td>audi</td>\n",
       "      <td>a4</td>\n",
       "      <td>1.8</td>\n",
       "      <td>1999</td>\n",
       "      <td>4</td>\n",
       "      <td>manual(m5)</td>\n",
       "      <td>f</td>\n",
       "      <td>21</td>\n",
       "      <td>29</td>\n",
       "      <td>p</td>\n",
       "      <td>compact</td>\n",
       "    </tr>\n",
       "    <tr>\n",
       "      <th>2</th>\n",
       "      <td>2</td>\n",
       "      <td>audi</td>\n",
       "      <td>a4</td>\n",
       "      <td>2.0</td>\n",
       "      <td>2008</td>\n",
       "      <td>4</td>\n",
       "      <td>manual(m6)</td>\n",
       "      <td>f</td>\n",
       "      <td>20</td>\n",
       "      <td>31</td>\n",
       "      <td>p</td>\n",
       "      <td>compact</td>\n",
       "    </tr>\n",
       "    <tr>\n",
       "      <th>3</th>\n",
       "      <td>3</td>\n",
       "      <td>audi</td>\n",
       "      <td>a4</td>\n",
       "      <td>2.0</td>\n",
       "      <td>2008</td>\n",
       "      <td>4</td>\n",
       "      <td>auto(av)</td>\n",
       "      <td>f</td>\n",
       "      <td>21</td>\n",
       "      <td>30</td>\n",
       "      <td>p</td>\n",
       "      <td>compact</td>\n",
       "    </tr>\n",
       "    <tr>\n",
       "      <th>4</th>\n",
       "      <td>4</td>\n",
       "      <td>audi</td>\n",
       "      <td>a4</td>\n",
       "      <td>2.8</td>\n",
       "      <td>1999</td>\n",
       "      <td>6</td>\n",
       "      <td>auto(l5)</td>\n",
       "      <td>f</td>\n",
       "      <td>16</td>\n",
       "      <td>26</td>\n",
       "      <td>p</td>\n",
       "      <td>compact</td>\n",
       "    </tr>\n",
       "    <tr>\n",
       "      <th>...</th>\n",
       "      <td>...</td>\n",
       "      <td>...</td>\n",
       "      <td>...</td>\n",
       "      <td>...</td>\n",
       "      <td>...</td>\n",
       "      <td>...</td>\n",
       "      <td>...</td>\n",
       "      <td>...</td>\n",
       "      <td>...</td>\n",
       "      <td>...</td>\n",
       "      <td>...</td>\n",
       "      <td>...</td>\n",
       "    </tr>\n",
       "    <tr>\n",
       "      <th>229</th>\n",
       "      <td>229</td>\n",
       "      <td>volkswagen</td>\n",
       "      <td>passat</td>\n",
       "      <td>2.0</td>\n",
       "      <td>2008</td>\n",
       "      <td>4</td>\n",
       "      <td>auto(s6)</td>\n",
       "      <td>f</td>\n",
       "      <td>19</td>\n",
       "      <td>28</td>\n",
       "      <td>p</td>\n",
       "      <td>midsize</td>\n",
       "    </tr>\n",
       "    <tr>\n",
       "      <th>230</th>\n",
       "      <td>230</td>\n",
       "      <td>volkswagen</td>\n",
       "      <td>passat</td>\n",
       "      <td>2.0</td>\n",
       "      <td>2008</td>\n",
       "      <td>4</td>\n",
       "      <td>manual(m6)</td>\n",
       "      <td>f</td>\n",
       "      <td>21</td>\n",
       "      <td>29</td>\n",
       "      <td>p</td>\n",
       "      <td>midsize</td>\n",
       "    </tr>\n",
       "    <tr>\n",
       "      <th>231</th>\n",
       "      <td>231</td>\n",
       "      <td>volkswagen</td>\n",
       "      <td>passat</td>\n",
       "      <td>2.8</td>\n",
       "      <td>1999</td>\n",
       "      <td>6</td>\n",
       "      <td>auto(l5)</td>\n",
       "      <td>f</td>\n",
       "      <td>16</td>\n",
       "      <td>26</td>\n",
       "      <td>p</td>\n",
       "      <td>midsize</td>\n",
       "    </tr>\n",
       "    <tr>\n",
       "      <th>232</th>\n",
       "      <td>232</td>\n",
       "      <td>volkswagen</td>\n",
       "      <td>passat</td>\n",
       "      <td>2.8</td>\n",
       "      <td>1999</td>\n",
       "      <td>6</td>\n",
       "      <td>manual(m5)</td>\n",
       "      <td>f</td>\n",
       "      <td>18</td>\n",
       "      <td>26</td>\n",
       "      <td>p</td>\n",
       "      <td>midsize</td>\n",
       "    </tr>\n",
       "    <tr>\n",
       "      <th>233</th>\n",
       "      <td>233</td>\n",
       "      <td>volkswagen</td>\n",
       "      <td>passat</td>\n",
       "      <td>3.6</td>\n",
       "      <td>2008</td>\n",
       "      <td>6</td>\n",
       "      <td>auto(s6)</td>\n",
       "      <td>f</td>\n",
       "      <td>17</td>\n",
       "      <td>26</td>\n",
       "      <td>p</td>\n",
       "      <td>midsize</td>\n",
       "    </tr>\n",
       "  </tbody>\n",
       "</table>\n",
       "<p>234 rows × 12 columns</p>\n",
       "</div>"
      ],
      "text/plain": [
       "     Unnamed: 0 manufacturer   model  displ  year  cyl       trans drv  cty  \\\n",
       "0             0         audi      a4    1.8  1999    4    auto(l5)   f   18   \n",
       "1             1         audi      a4    1.8  1999    4  manual(m5)   f   21   \n",
       "2             2         audi      a4    2.0  2008    4  manual(m6)   f   20   \n",
       "3             3         audi      a4    2.0  2008    4    auto(av)   f   21   \n",
       "4             4         audi      a4    2.8  1999    6    auto(l5)   f   16   \n",
       "..          ...          ...     ...    ...   ...  ...         ...  ..  ...   \n",
       "229         229   volkswagen  passat    2.0  2008    4    auto(s6)   f   19   \n",
       "230         230   volkswagen  passat    2.0  2008    4  manual(m6)   f   21   \n",
       "231         231   volkswagen  passat    2.8  1999    6    auto(l5)   f   16   \n",
       "232         232   volkswagen  passat    2.8  1999    6  manual(m5)   f   18   \n",
       "233         233   volkswagen  passat    3.6  2008    6    auto(s6)   f   17   \n",
       "\n",
       "     hwy fl    class  \n",
       "0     29  p  compact  \n",
       "1     29  p  compact  \n",
       "2     31  p  compact  \n",
       "3     30  p  compact  \n",
       "4     26  p  compact  \n",
       "..   ... ..      ...  \n",
       "229   28  p  midsize  \n",
       "230   29  p  midsize  \n",
       "231   26  p  midsize  \n",
       "232   26  p  midsize  \n",
       "233   26  p  midsize  \n",
       "\n",
       "[234 rows x 12 columns]"
      ]
     },
     "execution_count": 7,
     "metadata": {},
     "output_type": "execute_result"
    }
   ],
   "source": [
    "cars"
   ]
  },
  {
   "cell_type": "code",
   "execution_count": 8,
   "metadata": {},
   "outputs": [
    {
     "data": {
      "text/plain": [
       "<pandas.core.groupby.generic.SeriesGroupBy object at 0x7fe221c56a90>"
      ]
     },
     "execution_count": 8,
     "metadata": {},
     "output_type": "execute_result"
    }
   ],
   "source": [
    "cars.groupby(['year'])[\"displ\"]"
   ]
  },
  {
   "cell_type": "code",
   "execution_count": 9,
   "metadata": {},
   "outputs": [],
   "source": [
    "# .groupby() adds a grouping index that can be used for grouped plotting\n",
    "# [\"...\"] extracts a particular column from the dataset.\n",
    "# Note: It's not always necessary to compute summary statistics after .groupby()\n",
    "\n",
    "grouped_data = cars.groupby(['year'])[\"displ\"]"
   ]
  },
  {
   "attachments": {},
   "cell_type": "markdown",
   "metadata": {},
   "source": [
    "<font size = \"5\">\n",
    "\n",
    "Grouped statistics"
   ]
  },
  {
   "cell_type": "code",
   "execution_count": 10,
   "metadata": {},
   "outputs": [],
   "source": [
    "# Compute frequency\n",
    "grouped_counts_onelevel = cars.groupby(['class']).size()\n",
    "grouped_counts_multilevel = cars.groupby(['class','cyl']).size()\n",
    "\n",
    "# Compute summary statistics by group\n",
    "grouped_mean = cars.groupby(['class','manufacturer'])[\"displ\"].mean()\n",
    "grouped_sum = cars.groupby(['class','manufacturer'])[\"displ\"].sum()\n",
    "grouped_std = cars.groupby(['class','manufacturer'])[\"displ\"].std()\n",
    "grouped_min = cars.groupby(['class','manufacturer'])[\"displ\"].min()\n",
    "grouped_max = cars.groupby(['class','manufacturer'])[\"displ\"].max()\n",
    "\n",
    "# Note: (1) Python will store the index in \".groupby()\" for later plotting\n",
    "#       (2) This is a succinct syntax for computing a single statistic.\n",
    "#           More multiple statistics and/or custom names  use \".groupby().agg()\"\n"
   ]
  },
  {
   "cell_type": "code",
   "execution_count": 11,
   "metadata": {},
   "outputs": [
    {
     "data": {
      "text/plain": [
       "<AxesSubplot:xlabel='manufacturer'>"
      ]
     },
     "execution_count": 11,
     "metadata": {},
     "output_type": "execute_result"
    },
    {
     "data": {
      "image/png": "[encoded data removed]",
      "text/plain": [
       "<Figure size 432x288 with 1 Axes>"
      ]
     },
     "metadata": {
      "needs_background": "light"
     },
     "output_type": "display_data"
    }
   ],
   "source": [
    "grouped_mean.unstack(\"class\").plot(kind = \"bar\",stacked = False)"
   ]
  },
  {
   "attachments": {},
   "cell_type": "markdown",
   "metadata": {},
   "source": [
    "<font size = \"5\">\n",
    "\n",
    "Histogram by groups"
   ]
  },
  {
   "cell_type": "code",
   "execution_count": 12,
   "metadata": {},
   "outputs": [
    {
     "data": {
      "text/plain": [
       "<pandas.core.groupby.generic.SeriesGroupBy object at 0x7fe221b5f1f0>"
      ]
     },
     "execution_count": 12,
     "metadata": {},
     "output_type": "execute_result"
    }
   ],
   "source": [
    "grouped_data"
   ]
  },
  {
   "cell_type": "code",
   "execution_count": 13,
   "metadata": {},
   "outputs": [
    {
     "data": {
      "text/plain": [
       "<matplotlib.legend.Legend at 0x7fe2219f5160>"
      ]
     },
     "execution_count": 13,
     "metadata": {},
     "output_type": "execute_result"
    },
    {
     "data": {
      "image/png": "[encoded data removed]",
      "text/plain": [
       "<Figure size 432x288 with 1 Axes>"
      ]
     },
     "metadata": {
      "needs_background": "light"
     },
     "output_type": "display_data"
    }
   ],
   "source": [
    "# To create overlapping histograms, use the \"grouped_data\" created above\n",
    "# and the function \".plot.hist()\" \n",
    "# The option \"alpha\" controls the transparency\n",
    "\n",
    "grouped_data.plot.hist(alpha = 0.5)\n",
    "plt.xlabel(\"Displacement\")\n",
    "plt.ylabel(\"Frequency\")\n",
    "plt.title(\"Histogram of car Displacement\")\n",
    "plt.legend(title = \"Year\")"
   ]
  },
  {
   "attachments": {},
   "cell_type": "markdown",
   "metadata": {},
   "source": [
    "<font size = \"5\">\n",
    "\n",
    "Bar chart"
   ]
  },
  {
   "cell_type": "code",
   "execution_count": 14,
   "metadata": {},
   "outputs": [
    {
     "data": {
      "text/plain": [
       "class\n",
       "2seater        5\n",
       "compact       47\n",
       "midsize       41\n",
       "minivan       11\n",
       "pickup        33\n",
       "subcompact    35\n",
       "suv           62\n",
       "dtype: int64"
      ]
     },
     "execution_count": 14,
     "metadata": {},
     "output_type": "execute_result"
    }
   ],
   "source": [
    "grouped_counts_onelevel"
   ]
  },
  {
   "cell_type": "code",
   "execution_count": 41,
   "metadata": {},
   "outputs": [
    {
     "data": {
      "image/png": "[encoded data removed]",
      "text/plain": [
       "<Figure size 640x480 with 1 Axes>"
      ]
     },
     "metadata": {},
     "output_type": "display_data"
    },
    {
     "data": {
      "image/png": "[encoded data removed]",
      "text/plain": [
       "<Figure size 640x480 with 1 Axes>"
      ]
     },
     "metadata": {},
     "output_type": "display_data"
    }
   ],
   "source": [
    "# A vertical bar plot\n",
    "grouped_counts_onelevel.plot(kind = \"bar\")\n",
    "plt.show()\n",
    "\n",
    "# A horizontal bar plot\n",
    "grouped_counts_onelevel.plot(kind = \"barh\")\n",
    "plt.show()\n",
    "\n",
    "# Note: (1) Other options in \"kind\" are \"line\"\n",
    "#       (2) plt.show() is used to display the charts as separate plots"
   ]
  },
  {
   "attachments": {},
   "cell_type": "markdown",
   "metadata": {},
   "source": [
    "<font size = \"5\">\n",
    "\n",
    "Multi-level bar chart"
   ]
  },
  {
   "cell_type": "code",
   "execution_count": 15,
   "metadata": {},
   "outputs": [
    {
     "data": {
      "application/vnd.microsoft.datawrangler.viewer.v0+json": {
       "columns": [
        {
         "name": "class",
         "rawType": "object",
         "type": "string"
        },
        {
         "name": "4",
         "rawType": "float64",
         "type": "float"
        },
        {
         "name": "5",
         "rawType": "float64",
         "type": "float"
        },
        {
         "name": "6",
         "rawType": "float64",
         "type": "float"
        },
        {
         "name": "8",
         "rawType": "float64",
         "type": "float"
        }
       ],
       "conversionMethod": "pd.DataFrame",
       "ref": "c579d4a8-3c32-4367-a5d5-47a8d94103ba",
       "rows": [
        [
         "2seater",
         null,
         null,
         null,
         "5.0"
        ],
        [
         "compact",
         "32.0",
         "2.0",
         "13.0",
         null
        ],
        [
         "midsize",
         "16.0",
         null,
         "23.0",
         "2.0"
        ],
        [
         "minivan",
         "1.0",
         null,
         "10.0",
         null
        ],
        [
         "pickup",
         "3.0",
         null,
         "10.0",
         "20.0"
        ],
        [
         "subcompact",
         "21.0",
         "2.0",
         "7.0",
         "5.0"
        ],
        [
         "suv",
         "8.0",
         null,
         "16.0",
         "38.0"
        ]
       ],
       "shape": {
        "columns": 4,
        "rows": 7
       }
      },
      "text/html": [
       "<div>\n",
       "<style scoped>\n",
       "    .dataframe tbody tr th:only-of-type {\n",
       "        vertical-align: middle;\n",
       "    }\n",
       "\n",
       "    .dataframe tbody tr th {\n",
       "        vertical-align: top;\n",
       "    }\n",
       "\n",
       "    .dataframe thead th {\n",
       "        text-align: right;\n",
       "    }\n",
       "</style>\n",
       "<table border=\"1\" class=\"dataframe\">\n",
       "  <thead>\n",
       "    <tr style=\"text-align: right;\">\n",
       "      <th>cyl</th>\n",
       "      <th>4</th>\n",
       "      <th>5</th>\n",
       "      <th>6</th>\n",
       "      <th>8</th>\n",
       "    </tr>\n",
       "    <tr>\n",
       "      <th>class</th>\n",
       "      <th></th>\n",
       "      <th></th>\n",
       "      <th></th>\n",
       "      <th></th>\n",
       "    </tr>\n",
       "  </thead>\n",
       "  <tbody>\n",
       "    <tr>\n",
       "      <th>2seater</th>\n",
       "      <td>NaN</td>\n",
       "      <td>NaN</td>\n",
       "      <td>NaN</td>\n",
       "      <td>5.0</td>\n",
       "    </tr>\n",
       "    <tr>\n",
       "      <th>compact</th>\n",
       "      <td>32.0</td>\n",
       "      <td>2.0</td>\n",
       "      <td>13.0</td>\n",
       "      <td>NaN</td>\n",
       "    </tr>\n",
       "    <tr>\n",
       "      <th>midsize</th>\n",
       "      <td>16.0</td>\n",
       "      <td>NaN</td>\n",
       "      <td>23.0</td>\n",
       "      <td>2.0</td>\n",
       "    </tr>\n",
       "    <tr>\n",
       "      <th>minivan</th>\n",
       "      <td>1.0</td>\n",
       "      <td>NaN</td>\n",
       "      <td>10.0</td>\n",
       "      <td>NaN</td>\n",
       "    </tr>\n",
       "    <tr>\n",
       "      <th>pickup</th>\n",
       "      <td>3.0</td>\n",
       "      <td>NaN</td>\n",
       "      <td>10.0</td>\n",
       "      <td>20.0</td>\n",
       "    </tr>\n",
       "    <tr>\n",
       "      <th>subcompact</th>\n",
       "      <td>21.0</td>\n",
       "      <td>2.0</td>\n",
       "      <td>7.0</td>\n",
       "      <td>5.0</td>\n",
       "    </tr>\n",
       "    <tr>\n",
       "      <th>suv</th>\n",
       "      <td>8.0</td>\n",
       "      <td>NaN</td>\n",
       "      <td>16.0</td>\n",
       "      <td>38.0</td>\n",
       "    </tr>\n",
       "  </tbody>\n",
       "</table>\n",
       "</div>"
      ],
      "text/plain": [
       "cyl            4    5     6     8\n",
       "class                            \n",
       "2seater      NaN  NaN   NaN   5.0\n",
       "compact     32.0  2.0  13.0   NaN\n",
       "midsize     16.0  NaN  23.0   2.0\n",
       "minivan      1.0  NaN  10.0   NaN\n",
       "pickup       3.0  NaN  10.0  20.0\n",
       "subcompact  21.0  2.0   7.0   5.0\n",
       "suv          8.0  NaN  16.0  38.0"
      ]
     },
     "execution_count": 15,
     "metadata": {},
     "output_type": "execute_result"
    }
   ],
   "source": [
    "grouped_counts_multilevel.unstack(\"cyl\")"
   ]
  },
  {
   "cell_type": "code",
   "execution_count": 16,
   "metadata": {},
   "outputs": [
    {
     "data": {
      "image/png": "[encoded data removed]",
      "text/plain": [
       "<Figure size 432x288 with 1 Axes>"
      ]
     },
     "metadata": {
      "needs_background": "light"
     },
     "output_type": "display_data"
    },
    {
     "data": {
      "image/png": "[encoded data removed]",
      "text/plain": [
       "<Figure size 432x288 with 1 Axes>"
      ]
     },
     "metadata": {
      "needs_background": "light"
     },
     "output_type": "display_data"
    }
   ],
   "source": [
    "# .unstack(\"cyl\") indicates that the plot should stack the results\n",
    "# by \"cyl\" (cylinders).\n",
    "grouped_counts_multilevel.unstack(\"cyl\").plot(kind = \"bar\",stacked = True)\n",
    "plt.title(\"Stacked Bar Chart\")\n",
    "plt.ylabel(\"Frequency\")\n",
    "plt.xlabel(\"Class\")\n",
    "plt.show()\n",
    "\n",
    "# The grouped bar chart presents a histogram with two groupings, a primary\n",
    "# and a secondary one. In this case \"unstack(\"cyl\")\" indicates the secondary\n",
    "# level\n",
    "grouped_counts_multilevel.unstack(\"cyl\").plot(kind = \"bar\",stacked = False)\n",
    "plt.title(\"Grouped Bar Chart\")\n",
    "plt.ylabel(\"Frequency\")\n",
    "plt.ylabel(\"Class\")\n",
    "plt.show()"
   ]
  },
  {
   "attachments": {},
   "cell_type": "markdown",
   "metadata": {},
   "source": [
    "<font size = \"5\">\n",
    "\n",
    "Legend options"
   ]
  },
  {
   "cell_type": "code",
   "execution_count": 17,
   "metadata": {},
   "outputs": [
    {
     "data": {
      "text/plain": [
       "<matplotlib.legend.Legend at 0x7fe200fca1f0>"
      ]
     },
     "execution_count": 17,
     "metadata": {},
     "output_type": "execute_result"
    },
    {
     "data": {
      "image/png": "[encoded data removed]",
      "text/plain": [
       "<Figure size 432x288 with 1 Axes>"
      ]
     },
     "metadata": {
      "needs_background": "light"
     },
     "output_type": "display_data"
    }
   ],
   "source": [
    "# Baseline plot\n",
    "grouped_counts_multilevel.unstack(\"cyl\").plot(kind = \"bar\",stacked = True)\n",
    "plt.title(\"Stacked bar chart with legend on side\")\n",
    "plt.ylabel(\"Frequency\")\n",
    "\n",
    "# bbox_to_anchor(x,y) where (x,y) are the coordinates on the graph where values\n",
    "#                     between 0 and 1. If the user specifies a value higher\n",
    "#                     than one, it's put outside the graph.\n",
    "# loc: The part of the legend where the point \"bbox_to_anchor\" is located\n",
    "#      If \"bbox_to_anchor\" is not specified, this places the legend inside\n",
    "#      the plot in the desired position.\n",
    "# Best thing is to use different options to test the usage!\n",
    "\n",
    "plt.legend(title='Cylinders',\n",
    "           bbox_to_anchor=(1, 0.5),\n",
    "           loc='center left',)\n"
   ]
  },
  {
   "attachments": {},
   "cell_type": "markdown",
   "metadata": {},
   "source": [
    "<font size = \"5\">\n",
    "\n",
    "Try it yourself!\n",
    "\n",
    "- Compute the standard deviation of \"cty\" grouped <br>\n",
    "by \"year\" and \"manufacturer\"\n",
    "- Display a grouped bar chart with \"manufacturer\" as the <br>\n",
    "primary level and \"year\" as the secondary level\n",
    "- Save the figure to <br>\n",
    "\"results/figure_barchart_stdcty_by_year.png\""
   ]
  },
  {
   "cell_type": "code",
   "execution_count": 18,
   "metadata": {},
   "outputs": [],
   "source": [
    "# Write your own code\n",
    "grouped_db = cars.groupby(['year', 'manufacturer'])['cty']"
   ]
  },
  {
   "cell_type": "code",
   "execution_count": 19,
   "metadata": {},
   "outputs": [
    {
     "data": {
      "image/png": "[encoded data removed]",
      "text/plain": [
       "<Figure size 432x288 with 1 Axes>"
      ]
     },
     "metadata": {
      "needs_background": "light"
     },
     "output_type": "display_data"
    }
   ],
   "source": [
    "grouped_db.std().unstack('year').plot(kind = \"bar\", stacked = False)\n",
    "plt.savefig('results/figure_barchart_stdcty_by_year.png')"
   ]
  },
  {
   "attachments": {},
   "cell_type": "markdown",
   "metadata": {},
   "source": [
    "# <span style=\"color:darkblue\"> IV. Finishing with style! </span>"
   ]
  },
  {
   "attachments": {},
   "cell_type": "markdown",
   "metadata": {},
   "source": [
    "<font size = \"5\" >\n",
    "\n",
    "More plots!\n",
    "\n",
    "https://www.machinelearningplus.com/plots/top-50-matplotlib-visualizations-the-master-plots-python/"
   ]
  },
  {
   "attachments": {},
   "cell_type": "markdown",
   "metadata": {},
   "source": [
    "<font size = \"5\">\n",
    "\n",
    "Check available styles"
   ]
  },
  {
   "cell_type": "code",
   "execution_count": 20,
   "metadata": {},
   "outputs": [
    {
     "data": {
      "text/plain": [
       "['Solarize_Light2',\n",
       " '_classic_test_patch',\n",
       " 'bmh',\n",
       " 'classic',\n",
       " 'dark_background',\n",
       " 'fast',\n",
       " 'fivethirtyeight',\n",
       " 'ggplot',\n",
       " 'grayscale',\n",
       " 'seaborn',\n",
       " 'seaborn-bright',\n",
       " 'seaborn-colorblind',\n",
       " 'seaborn-dark',\n",
       " 'seaborn-dark-palette',\n",
       " 'seaborn-darkgrid',\n",
       " 'seaborn-deep',\n",
       " 'seaborn-muted',\n",
       " 'seaborn-notebook',\n",
       " 'seaborn-paper',\n",
       " 'seaborn-pastel',\n",
       " 'seaborn-poster',\n",
       " 'seaborn-talk',\n",
       " 'seaborn-ticks',\n",
       " 'seaborn-white',\n",
       " 'seaborn-whitegrid',\n",
       " 'tableau-colorblind10']"
      ]
     },
     "execution_count": 20,
     "metadata": {},
     "output_type": "execute_result"
    }
   ],
   "source": [
    "# Check which styles are available\n",
    "plt.style.available\n"
   ]
  },
  {
   "attachments": {},
   "cell_type": "markdown",
   "metadata": {},
   "source": [
    "<font size = \"5\">\n",
    "\n",
    "Set style\n",
    "\n",
    "- ```plt.style.use()```\n",
    "- Setting this command affects future plots in this file"
   ]
  },
  {
   "cell_type": "code",
   "execution_count": 23,
   "metadata": {},
   "outputs": [
    {
     "data": {
      "text/plain": [
       "Text(0.5, 1.0, 'Fuel efficiency in highways vs the city')"
      ]
     },
     "execution_count": 23,
     "metadata": {},
     "output_type": "execute_result"
    },
    {
     "data": {
      "image/png": "[encoded data removed]",
      "text/plain": [
       "<Figure size 748.8x514.8 with 1 Axes>"
      ]
     },
     "metadata": {},
     "output_type": "display_data"
    }
   ],
   "source": [
    "# Set the style. Can switch back by setting:    plt.style.use('default')\n",
    "\n",
    "plt.style.use('seaborn-talk')\n",
    "\n",
    "plt.scatter(x = cars[\"hwy\"],y = cars[\"cty\"])\n",
    "plt.xlabel(\"Miles per gallon (Highway)\")\n",
    "plt.ylabel(\"Miles per gallon (City)\")\n",
    "plt.title(\"Fuel efficiency in highways vs the city\")\n"
   ]
  },
  {
   "attachments": {},
   "cell_type": "markdown",
   "metadata": {},
   "source": [
    "<font size = \"5\">\n",
    "\n",
    "Try it yourself!\n",
    "\n",
    "- Choose a style with ``` plt.style.use() ```\n",
    "- Copy-paste the code for one of the plots above <br>\n",
    "to see the new style"
   ]
  },
  {
   "cell_type": "code",
   "execution_count": 15,
   "metadata": {},
   "outputs": [],
   "source": [
    "# Write your own code"
   ]
  },
  {
   "attachments": {},
   "cell_type": "markdown",
   "metadata": {},
   "source": [
    "# <span style=\"color:darkblue\"> V. Where to go from here?  </span>"
   ]
  },
  {
   "attachments": {},
   "cell_type": "markdown",
   "metadata": {},
   "source": [
    "<font size = \"5\">\n",
    "\n",
    "**Key take-away:** Python is modular! <br> (comprised of many simple components)"
   ]
  },
  {
   "attachments": {},
   "cell_type": "markdown",
   "metadata": {},
   "source": [
    "<font size = \"5\">\n",
    "\n",
    "More courses in QTM!\n",
    "\n",
    "https://quantitative.emory.edu/undergraduate/courses.html"
   ]
  },
  {
   "attachments": {},
   "cell_type": "markdown",
   "metadata": {},
   "source": [
    "<font size = \"5\">\n",
    "\n",
    "Data Camp\n",
    "\n",
    "https://www.datacamp.com/\n"
   ]
  },
  {
   "attachments": {},
   "cell_type": "markdown",
   "metadata": {},
   "source": [
    "<font size = \"5\">\n",
    "\n",
    "Course era:\n",
    "\n",
    "https://www.coursera.org/specializations/python\n"
   ]
  },
  {
   "attachments": {},
   "cell_type": "markdown",
   "metadata": {},
   "source": [
    "<font size = \"5\">\n",
    "\n",
    "Prepare for coding interviews:\n",
    "\n",
    "https://leetcode.com/\n"
   ]
  }
 ],
 "metadata": {
  "kernelspec": {
   "display_name": "Python 3",
   "language": "python",
   "name": "python3"
  },
  "language_info": {
   "codemirror_mode": {
    "name": "ipython",
    "version": 3
   },
   "file_extension": ".py",
   "mimetype": "text/x-python",
   "name": "python",
   "nbconvert_exporter": "python",
   "pygments_lexer": "ipython3",
   "version": "3.8.8"
  },
  "orig_nbformat": 4
 },
 "nbformat": 4,
 "nbformat_minor": 2
}
